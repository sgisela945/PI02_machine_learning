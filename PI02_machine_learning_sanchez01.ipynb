{
 "cells": [
  {
   "cell_type": "markdown",
   "metadata": {},
   "source": [
    "#### **`Proyecto individual 02 - Parte B`**\n",
    "\n",
    "##### **`Pasos realizados:`**\n"
   ]
  },
  {
   "cell_type": "code",
   "execution_count": 1,
   "metadata": {},
   "outputs": [
    {
     "name": "stderr",
     "output_type": "stream",
     "text": [
      "[nltk_data] Downloading package punkt to\n",
      "[nltk_data]     C:\\Users\\Gise\\AppData\\Roaming\\nltk_data...\n",
      "[nltk_data]   Package punkt is already up-to-date!\n",
      "[nltk_data] Downloading package stopwords to\n",
      "[nltk_data]     C:\\Users\\Gise\\AppData\\Roaming\\nltk_data...\n",
      "[nltk_data]   Package stopwords is already up-to-date!\n"
     ]
    }
   ],
   "source": [
    "# LIBRERÍAS UTILIZADAS:\n",
    "import pandas as pd #para la utilización de dataframe\n",
    "import numpy as np # para crear array\n",
    "from base64 import encode #para el encoding de los archivos import encodings\n",
    "import chardet #detectar encoding\n",
    "from IPython.display import HTML, display_html, display#para agregar títulos\n",
    "from tkinter import Frame #para detectar que el tipo de dato es un dataframe de py\n",
    "from unicodedata import normalize#para normalizar strings\n",
    "import re #para normalizar incluyendo la ñ\n",
    "import os #para desglozar la ruta del archivo\n",
    "import datefinder #identificar datos tipo objeto/string que son fecha\n",
    "import datetime #libreria de fechas , la usamos para identificar fechas\n",
    "import itertools\n",
    "import matplotlib.pyplot as plt #gráficas\n",
    "import seaborn as sns#gráficas\n",
    "sns.set()\n",
    "#pip install missingno \n",
    "import missingno as msno#hacer gráficas de valores faltantes\n",
    "import nltk\n",
    "#para corregir coordenadas:\n",
    "import geopandas \n",
    "import geopy\n",
    "#para plotear los puntos georeferenciados\n",
    "import plotly.express as gdp\n",
    "import geopandas as gdp\n",
    "\n",
    "# Esto sirve para configurar NLTK. La primera vez puede tardar un poco\n",
    "nltk.download('punkt')\n",
    "nltk.download('stopwords')\n",
    "\n",
    "# Importamos esta libreria que nos permite reemplzar caracteres\n",
    "import re\n",
    "\n",
    "# Importamos la función que nos permite Stemmizar de nltk y definimos el stemmer\n",
    "from nltk.stem import PorterStemmer\n",
    "\n",
    "import datetime#corregir fechas\n",
    "\n",
    "#IMPORTAMOS LAS LIBRERÍAS NECESARIAS PARA PREDICCION\n",
    "from sklearn.model_selection import train_test_split\n",
    "from sklearn.metrics import accuracy_score\n",
    "from sklearn.neighbors import KNeighborsClassifier # Modelo 1\n",
    "from sklearn.svm import SVC # Modelo 2\n",
    "from sklearn.tree import DecisionTreeClassifier # Modelo 3\n",
    "from sklearn.ensemble import StackingClassifier\n",
    "from sklearn.linear_model import LogisticRegression # Metamodelo\n",
    "\n",
    "#VER VALORES PERDIDOS\n",
    "import missingno as msno"
   ]
  },
  {
   "cell_type": "code",
   "execution_count": 2,
   "metadata": {},
   "outputs": [],
   "source": [
    "#creamos una función para normalizar el índice\n",
    "def normalizar_index(df):\n",
    "    df.reset_index(drop = True, inplace = True)\n",
    "    return(df)"
   ]
  },
  {
   "cell_type": "markdown",
   "metadata": {},
   "source": [
    "#### **`1. Carga de datos`**"
   ]
  },
  {
   "cell_type": "code",
   "execution_count": 3,
   "metadata": {},
   "outputs": [],
   "source": [
    "#DEFINO UNA FUNCION PARA LA CARGA  DATOS QUE CONTEMPLA DISTINTOS TIPOS DE ARCHIVO: DEVUELVE UN DATAFRAME \n",
    "def carga_datos (ruta):\n",
    "    #CARGA DE DATOS Y EXTRACCIÓN DE FECHA:\n",
    "    #limpio la ruta del atchivo dejando solo el nombre y la extensión\n",
    "    tupla_archivos=os.path.split(ruta)\n",
    "    #de la tupla que me devuelve la divido en el nombre que lo voy a usar como suministro en extensión\n",
    "    nombre_tipo_archivo=tupla_archivos[1]\n",
    "    #la segunda parte de la tupla es el tipo de archivo que es que lo uso para saber cómo ingestar\n",
    "    extension_archivo= os.path.splitext(nombre_tipo_archivo)[-1]\n",
    "    #detección de la manera de abrirlo en base a la extensión del archivo\n",
    "    if extension_archivo==\".json\":\n",
    "        #desde json\n",
    "        df=pd.read_json(ruta)\n",
    "    elif extension_archivo==\".csv\":\n",
    "        #desde csv\n",
    "        try:\n",
    "            df=pd.read_csv(ruta,sep=\",\",encoding='utf-16')\n",
    "        except:\n",
    "            df=pd.read_csv(ruta,sep=\",\",encoding='utf-8')\n",
    "    elif extension_archivo==\".txt\":\n",
    "        #desde txt\n",
    "        with open(ruta, 'rb') as f:\n",
    "            enc = chardet.detect(f.read())\n",
    "        df=pd.read_csv(ruta,sep=\",\",encoding=enc['encoding'])\n",
    "    elif extension_archivo==\".xlsx\":\n",
    "        #desde un excel\n",
    "        df=pd.read_excel(ruta,header=0)\n",
    "        \n",
    "    return df"
   ]
  },
  {
   "cell_type": "code",
   "execution_count": 4,
   "metadata": {},
   "outputs": [],
   "source": [
    "#Cargo el dataset de train\n",
    "train=carga_datos(r'train_luego_ETL.csv')"
   ]
  },
  {
   "cell_type": "code",
   "execution_count": 5,
   "metadata": {},
   "outputs": [
    {
     "data": {
      "text/html": [
       "<div>\n",
       "<style scoped>\n",
       "    .dataframe tbody tr th:only-of-type {\n",
       "        vertical-align: middle;\n",
       "    }\n",
       "\n",
       "    .dataframe tbody tr th {\n",
       "        vertical-align: top;\n",
       "    }\n",
       "\n",
       "    .dataframe thead th {\n",
       "        text-align: right;\n",
       "    }\n",
       "</style>\n",
       "<table border=\"1\" class=\"dataframe\">\n",
       "  <thead>\n",
       "    <tr style=\"text-align: right;\">\n",
       "      <th></th>\n",
       "      <th>Unnamed: 0</th>\n",
       "      <th>latitud</th>\n",
       "      <th>longitud</th>\n",
       "      <th>bedrooms</th>\n",
       "      <th>bathrooms</th>\n",
       "      <th>surface_covered</th>\n",
       "      <th>price_period</th>\n",
       "      <th>target</th>\n",
       "      <th>mes_start</th>\n",
       "      <th>diff_month</th>\n",
       "      <th>apartamento</th>\n",
       "      <th>casa</th>\n",
       "      <th>local comercial</th>\n",
       "      <th>lote</th>\n",
       "      <th>oficina</th>\n",
       "    </tr>\n",
       "  </thead>\n",
       "  <tbody>\n",
       "    <tr>\n",
       "      <th>0</th>\n",
       "      <td>0</td>\n",
       "      <td>4.722748</td>\n",
       "      <td>-74.073115</td>\n",
       "      <td>3.0</td>\n",
       "      <td>2</td>\n",
       "      <td>3</td>\n",
       "      <td>0.0</td>\n",
       "      <td>0</td>\n",
       "      <td>9</td>\n",
       "      <td>8.0</td>\n",
       "      <td>1</td>\n",
       "      <td>0</td>\n",
       "      <td>0</td>\n",
       "      <td>0</td>\n",
       "      <td>0</td>\n",
       "    </tr>\n",
       "    <tr>\n",
       "      <th>1</th>\n",
       "      <td>1</td>\n",
       "      <td>4.709000</td>\n",
       "      <td>-74.030000</td>\n",
       "      <td>1.0</td>\n",
       "      <td>2</td>\n",
       "      <td>0</td>\n",
       "      <td>0.0</td>\n",
       "      <td>0</td>\n",
       "      <td>8</td>\n",
       "      <td>0.0</td>\n",
       "      <td>0</td>\n",
       "      <td>1</td>\n",
       "      <td>0</td>\n",
       "      <td>0</td>\n",
       "      <td>0</td>\n",
       "    </tr>\n",
       "  </tbody>\n",
       "</table>\n",
       "</div>"
      ],
      "text/plain": [
       "   Unnamed: 0   latitud   longitud  bedrooms  bathrooms  surface_covered  \\\n",
       "0           0  4.722748 -74.073115       3.0          2                3   \n",
       "1           1  4.709000 -74.030000       1.0          2                0   \n",
       "\n",
       "   price_period  target  mes_start  diff_month  apartamento  casa  \\\n",
       "0           0.0       0          9         8.0            1     0   \n",
       "1           0.0       0          8         0.0            0     1   \n",
       "\n",
       "   local comercial  lote  oficina  \n",
       "0                0     0        0  \n",
       "1                0     0        0  "
      ]
     },
     "execution_count": 5,
     "metadata": {},
     "output_type": "execute_result"
    }
   ],
   "source": [
    "#reviso que se haya cargado correctamente\n",
    "train.head(2)"
   ]
  },
  {
   "cell_type": "markdown",
   "metadata": {},
   "source": [
    "#### ***`5. Predicciones con modelo de entrenamiento`***"
   ]
  },
  {
   "cell_type": "code",
   "execution_count": 6,
   "metadata": {},
   "outputs": [
    {
     "data": {
      "text/plain": [
       "Index(['Unnamed: 0', 'latitud', 'longitud', 'bedrooms', 'bathrooms',\n",
       "       'surface_covered', 'price_period', 'target', 'mes_start', 'diff_month',\n",
       "       'apartamento', 'casa', 'local comercial', 'lote', 'oficina'],\n",
       "      dtype='object')"
      ]
     },
     "execution_count": 6,
     "metadata": {},
     "output_type": "execute_result"
    }
   ],
   "source": [
    "train.columns"
   ]
  },
  {
   "cell_type": "markdown",
   "metadata": {},
   "source": [
    "##### *`5.1 Elegimos variables de entrenamiento`*"
   ]
  },
  {
   "cell_type": "code",
   "execution_count": 7,
   "metadata": {},
   "outputs": [],
   "source": [
    "train.dropna(how='any',inplace=True)\n",
    "train=normalizar_index(train)\n",
    "X =train.drop('target',axis=1)\n",
    "y = train.target"
   ]
  },
  {
   "cell_type": "code",
   "execution_count": 8,
   "metadata": {},
   "outputs": [],
   "source": [
    "#Importamos librerias\n",
    "import numpy as np\n",
    "import pandas as pd\n",
    "\n",
    "import matplotlib.pyplot as plt\n",
    "import seaborn as sns\n",
    "sns.set()\n",
    "\n",
    "from sklearn.preprocessing import StandardScaler\n",
    "\n",
    "from sklearn.model_selection import train_test_split\n",
    "from sklearn.model_selection import cross_val_score\n",
    "from sklearn.model_selection import cross_validate\n",
    "\n",
    "from sklearn.tree import DecisionTreeClassifier\n",
    "\n",
    "import sklearn.metrics as metrics\n",
    "from sklearn.model_selection import learning_curve"
   ]
  },
  {
   "cell_type": "markdown",
   "metadata": {},
   "source": [
    "##### *`5.2 Elegimos que siempre sea barato o caro y medimos su exactitud`*"
   ]
  },
  {
   "cell_type": "code",
   "execution_count": 9,
   "metadata": {},
   "outputs": [
    {
     "name": "stdout",
     "output_type": "stream",
     "text": [
      "0.83\n"
     ]
    }
   ],
   "source": [
    "#Todos baratos\n",
    "y_pred = np.zeros(y.shape)\n",
    "accuracy_ceros = metrics.accuracy_score(y,y_pred)\n",
    "print(round(accuracy_ceros,2))"
   ]
  },
  {
   "cell_type": "code",
   "execution_count": 10,
   "metadata": {},
   "outputs": [
    {
     "name": "stdout",
     "output_type": "stream",
     "text": [
      "0.17022802500919457\n"
     ]
    }
   ],
   "source": [
    "#Todos Caros=Uno\n",
    "y_pred = np.ones(y.shape)\n",
    "accuracy_unos = metrics.accuracy_score(y,y_pred)\n",
    "print(accuracy_unos)"
   ]
  },
  {
   "cell_type": "markdown",
   "metadata": {},
   "source": [
    "##### *`5.3 Predecimos con Random Forest`*"
   ]
  },
  {
   "cell_type": "code",
   "execution_count": 11,
   "metadata": {},
   "outputs": [],
   "source": [
    "from sklearn.ensemble import RandomForestClassifier"
   ]
  },
  {
   "cell_type": "code",
   "execution_count": 12,
   "metadata": {},
   "outputs": [
    {
     "data": {
      "text/plain": [
       "<function __main__.normalizar_index(df)>"
      ]
     },
     "execution_count": 12,
     "metadata": {},
     "output_type": "execute_result"
    }
   ],
   "source": [
    "normalizar_index"
   ]
  },
  {
   "cell_type": "code",
   "execution_count": 13,
   "metadata": {},
   "outputs": [],
   "source": [
    "#Separamos las variables en test y train (siempre dentro del df train)\n",
    "X_train, X_test, y_train, y_test = train_test_split(X, y, test_size=0.30, random_state=42, stratify = y)"
   ]
  },
  {
   "cell_type": "markdown",
   "metadata": {},
   "source": [
    "Investigamos sus parámetros: n_estimators,max_features y obb_score"
   ]
  },
  {
   "cell_type": "code",
   "execution_count": 14,
   "metadata": {},
   "outputs": [
    {
     "data": {
      "text/html": [
       "<style>#sk-container-id-1 {color: black;background-color: white;}#sk-container-id-1 pre{padding: 0;}#sk-container-id-1 div.sk-toggleable {background-color: white;}#sk-container-id-1 label.sk-toggleable__label {cursor: pointer;display: block;width: 100%;margin-bottom: 0;padding: 0.3em;box-sizing: border-box;text-align: center;}#sk-container-id-1 label.sk-toggleable__label-arrow:before {content: \"▸\";float: left;margin-right: 0.25em;color: #696969;}#sk-container-id-1 label.sk-toggleable__label-arrow:hover:before {color: black;}#sk-container-id-1 div.sk-estimator:hover label.sk-toggleable__label-arrow:before {color: black;}#sk-container-id-1 div.sk-toggleable__content {max-height: 0;max-width: 0;overflow: hidden;text-align: left;background-color: #f0f8ff;}#sk-container-id-1 div.sk-toggleable__content pre {margin: 0.2em;color: black;border-radius: 0.25em;background-color: #f0f8ff;}#sk-container-id-1 input.sk-toggleable__control:checked~div.sk-toggleable__content {max-height: 200px;max-width: 100%;overflow: auto;}#sk-container-id-1 input.sk-toggleable__control:checked~label.sk-toggleable__label-arrow:before {content: \"▾\";}#sk-container-id-1 div.sk-estimator input.sk-toggleable__control:checked~label.sk-toggleable__label {background-color: #d4ebff;}#sk-container-id-1 div.sk-label input.sk-toggleable__control:checked~label.sk-toggleable__label {background-color: #d4ebff;}#sk-container-id-1 input.sk-hidden--visually {border: 0;clip: rect(1px 1px 1px 1px);clip: rect(1px, 1px, 1px, 1px);height: 1px;margin: -1px;overflow: hidden;padding: 0;position: absolute;width: 1px;}#sk-container-id-1 div.sk-estimator {font-family: monospace;background-color: #f0f8ff;border: 1px dotted black;border-radius: 0.25em;box-sizing: border-box;margin-bottom: 0.5em;}#sk-container-id-1 div.sk-estimator:hover {background-color: #d4ebff;}#sk-container-id-1 div.sk-parallel-item::after {content: \"\";width: 100%;border-bottom: 1px solid gray;flex-grow: 1;}#sk-container-id-1 div.sk-label:hover label.sk-toggleable__label {background-color: #d4ebff;}#sk-container-id-1 div.sk-serial::before {content: \"\";position: absolute;border-left: 1px solid gray;box-sizing: border-box;top: 0;bottom: 0;left: 50%;z-index: 0;}#sk-container-id-1 div.sk-serial {display: flex;flex-direction: column;align-items: center;background-color: white;padding-right: 0.2em;padding-left: 0.2em;position: relative;}#sk-container-id-1 div.sk-item {position: relative;z-index: 1;}#sk-container-id-1 div.sk-parallel {display: flex;align-items: stretch;justify-content: center;background-color: white;position: relative;}#sk-container-id-1 div.sk-item::before, #sk-container-id-1 div.sk-parallel-item::before {content: \"\";position: absolute;border-left: 1px solid gray;box-sizing: border-box;top: 0;bottom: 0;left: 50%;z-index: -1;}#sk-container-id-1 div.sk-parallel-item {display: flex;flex-direction: column;z-index: 1;position: relative;background-color: white;}#sk-container-id-1 div.sk-parallel-item:first-child::after {align-self: flex-end;width: 50%;}#sk-container-id-1 div.sk-parallel-item:last-child::after {align-self: flex-start;width: 50%;}#sk-container-id-1 div.sk-parallel-item:only-child::after {width: 0;}#sk-container-id-1 div.sk-dashed-wrapped {border: 1px dashed gray;margin: 0 0.4em 0.5em 0.4em;box-sizing: border-box;padding-bottom: 0.4em;background-color: white;}#sk-container-id-1 div.sk-label label {font-family: monospace;font-weight: bold;display: inline-block;line-height: 1.2em;}#sk-container-id-1 div.sk-label-container {text-align: center;}#sk-container-id-1 div.sk-container {/* jupyter's `normalize.less` sets `[hidden] { display: none; }` but bootstrap.min.css set `[hidden] { display: none !important; }` so we also need the `!important` here to be able to override the default hidden behavior on the sphinx rendered scikit-learn.org. See: https://github.com/scikit-learn/scikit-learn/issues/21755 */display: inline-block !important;position: relative;}#sk-container-id-1 div.sk-text-repr-fallback {display: none;}</style><div id=\"sk-container-id-1\" class=\"sk-top-container\"><div class=\"sk-text-repr-fallback\"><pre>RandomForestClassifier(n_estimators=200, n_jobs=-1, oob_score=True,\n",
       "                       random_state=42)</pre><b>In a Jupyter environment, please rerun this cell to show the HTML representation or trust the notebook. <br />On GitHub, the HTML representation is unable to render, please try loading this page with nbviewer.org.</b></div><div class=\"sk-container\" hidden><div class=\"sk-item\"><div class=\"sk-estimator sk-toggleable\"><input class=\"sk-toggleable__control sk-hidden--visually\" id=\"sk-estimator-id-1\" type=\"checkbox\" checked><label for=\"sk-estimator-id-1\" class=\"sk-toggleable__label sk-toggleable__label-arrow\">RandomForestClassifier</label><div class=\"sk-toggleable__content\"><pre>RandomForestClassifier(n_estimators=200, n_jobs=-1, oob_score=True,\n",
       "                       random_state=42)</pre></div></div></div></div></div>"
      ],
      "text/plain": [
       "RandomForestClassifier(n_estimators=200, n_jobs=-1, oob_score=True,\n",
       "                       random_state=42)"
      ]
     },
     "execution_count": 14,
     "metadata": {},
     "output_type": "execute_result"
    }
   ],
   "source": [
    "clf = RandomForestClassifier(n_estimators=200, max_features='sqrt', n_jobs=-1, oob_score = True, random_state = 42)\n",
    "clf.fit(X_train,y_train)"
   ]
  },
  {
   "cell_type": "markdown",
   "metadata": {},
   "source": [
    "Evaluamos su desempeño en el conjunto train y test"
   ]
  },
  {
   "cell_type": "code",
   "execution_count": 15,
   "metadata": {},
   "outputs": [
    {
     "name": "stdout",
     "output_type": "stream",
     "text": [
      "1.0\n",
      "0.875076621306853\n"
     ]
    }
   ],
   "source": [
    "y_train_pred = clf.predict(X_train)\n",
    "y_test_pred = clf.predict(X_test)\n",
    "print(metrics.accuracy_score(y_train, y_train_pred))\n",
    "print(metrics.accuracy_score(y_test, y_test_pred))"
   ]
  },
  {
   "cell_type": "markdown",
   "metadata": {},
   "source": [
    "Obtenemos su obb_score"
   ]
  },
  {
   "cell_type": "code",
   "execution_count": 16,
   "metadata": {},
   "outputs": [
    {
     "data": {
      "text/plain": [
       "True"
      ]
     },
     "execution_count": 16,
     "metadata": {},
     "output_type": "execute_result"
    }
   ],
   "source": [
    "clf.oob_score"
   ]
  },
  {
   "cell_type": "markdown",
   "metadata": {},
   "source": [
    "Tenemos sus features_importances"
   ]
  },
  {
   "cell_type": "code",
   "execution_count": 17,
   "metadata": {},
   "outputs": [
    {
     "data": {
      "text/plain": [
       "0.8746650554300426"
      ]
     },
     "execution_count": 17,
     "metadata": {},
     "output_type": "execute_result"
    }
   ],
   "source": [
    "clf.oob_score_"
   ]
  },
  {
   "cell_type": "markdown",
   "metadata": {},
   "source": [
    "Graficamos los features importances"
   ]
  },
  {
   "cell_type": "code",
   "execution_count": 18,
   "metadata": {},
   "outputs": [
    {
     "name": "stderr",
     "output_type": "stream",
     "text": [
      "c:\\Users\\Gise\\anaconda3\\lib\\site-packages\\seaborn\\_decorators.py:36: FutureWarning: Pass the following variables as keyword args: x, y. From version 0.12, the only valid positional argument will be `data`, and passing other arguments without an explicit keyword will result in an error or misinterpretation.\n",
      "  warnings.warn(\n"
     ]
    },
    {
     "data": {
      "image/png": "[encoded data removed]",
      "text/plain": [
       "<Figure size 1080x576 with 1 Axes>"
      ]
     },
     "metadata": {},
     "output_type": "display_data"
    }
   ],
   "source": [
    "importances = clf.feature_importances_\n",
    "columns = X_train.columns\n",
    "indices = np.argsort(importances)[::-1]\n",
    "\n",
    "plt.figure(figsize = (15,8))\n",
    "sns.barplot(columns[indices], importances[indices])\n",
    "plt.show()"
   ]
  },
  {
   "cell_type": "markdown",
   "metadata": {},
   "source": [
    "Vemos estimators"
   ]
  },
  {
   "cell_type": "code",
   "execution_count": 19,
   "metadata": {},
   "outputs": [
    {
     "data": {
      "text/plain": [
       "[DecisionTreeClassifier(max_features='sqrt', random_state=1608637542),\n",
       " DecisionTreeClassifier(max_features='sqrt', random_state=1273642419),\n",
       " DecisionTreeClassifier(max_features='sqrt', random_state=1935803228),\n",
       " DecisionTreeClassifier(max_features='sqrt', random_state=787846414),\n",
       " DecisionTreeClassifier(max_features='sqrt', random_state=996406378),\n",
       " DecisionTreeClassifier(max_features='sqrt', random_state=1201263687),\n",
       " DecisionTreeClassifier(max_features='sqrt', random_state=423734972),\n",
       " DecisionTreeClassifier(max_features='sqrt', random_state=415968276),\n",
       " DecisionTreeClassifier(max_features='sqrt', random_state=670094950),\n",
       " DecisionTreeClassifier(max_features='sqrt', random_state=1914837113),\n",
       " DecisionTreeClassifier(max_features='sqrt', random_state=669991378),\n",
       " DecisionTreeClassifier(max_features='sqrt', random_state=429389014),\n",
       " DecisionTreeClassifier(max_features='sqrt', random_state=249467210),\n",
       " DecisionTreeClassifier(max_features='sqrt', random_state=1972458954),\n",
       " DecisionTreeClassifier(max_features='sqrt', random_state=1572714583),\n",
       " DecisionTreeClassifier(max_features='sqrt', random_state=1433267572),\n",
       " DecisionTreeClassifier(max_features='sqrt', random_state=434285667),\n",
       " DecisionTreeClassifier(max_features='sqrt', random_state=613608295),\n",
       " DecisionTreeClassifier(max_features='sqrt', random_state=893664919),\n",
       " DecisionTreeClassifier(max_features='sqrt', random_state=648061058),\n",
       " DecisionTreeClassifier(max_features='sqrt', random_state=88409749),\n",
       " DecisionTreeClassifier(max_features='sqrt', random_state=242285876),\n",
       " DecisionTreeClassifier(max_features='sqrt', random_state=2018247425),\n",
       " DecisionTreeClassifier(max_features='sqrt', random_state=953477463),\n",
       " DecisionTreeClassifier(max_features='sqrt', random_state=1427830251),\n",
       " DecisionTreeClassifier(max_features='sqrt', random_state=1883569565),\n",
       " DecisionTreeClassifier(max_features='sqrt', random_state=911989541),\n",
       " DecisionTreeClassifier(max_features='sqrt', random_state=3344769),\n",
       " DecisionTreeClassifier(max_features='sqrt', random_state=780932287),\n",
       " DecisionTreeClassifier(max_features='sqrt', random_state=2114032571),\n",
       " DecisionTreeClassifier(max_features='sqrt', random_state=787716372),\n",
       " DecisionTreeClassifier(max_features='sqrt', random_state=504579232),\n",
       " DecisionTreeClassifier(max_features='sqrt', random_state=1306710475),\n",
       " DecisionTreeClassifier(max_features='sqrt', random_state=479546681),\n",
       " DecisionTreeClassifier(max_features='sqrt', random_state=106328085),\n",
       " DecisionTreeClassifier(max_features='sqrt', random_state=30349564),\n",
       " DecisionTreeClassifier(max_features='sqrt', random_state=1855189739),\n",
       " DecisionTreeClassifier(max_features='sqrt', random_state=99052376),\n",
       " DecisionTreeClassifier(max_features='sqrt', random_state=1250819632),\n",
       " DecisionTreeClassifier(max_features='sqrt', random_state=106406362),\n",
       " DecisionTreeClassifier(max_features='sqrt', random_state=480404538),\n",
       " DecisionTreeClassifier(max_features='sqrt', random_state=1717389822),\n",
       " DecisionTreeClassifier(max_features='sqrt', random_state=599121577),\n",
       " DecisionTreeClassifier(max_features='sqrt', random_state=200427519),\n",
       " DecisionTreeClassifier(max_features='sqrt', random_state=1254751707),\n",
       " DecisionTreeClassifier(max_features='sqrt', random_state=2034764475),\n",
       " DecisionTreeClassifier(max_features='sqrt', random_state=1573512143),\n",
       " DecisionTreeClassifier(max_features='sqrt', random_state=999745294),\n",
       " DecisionTreeClassifier(max_features='sqrt', random_state=1958805693),\n",
       " DecisionTreeClassifier(max_features='sqrt', random_state=389151677),\n",
       " DecisionTreeClassifier(max_features='sqrt', random_state=1224821422),\n",
       " DecisionTreeClassifier(max_features='sqrt', random_state=508464061),\n",
       " DecisionTreeClassifier(max_features='sqrt', random_state=857592370),\n",
       " DecisionTreeClassifier(max_features='sqrt', random_state=1642661739),\n",
       " DecisionTreeClassifier(max_features='sqrt', random_state=61136438),\n",
       " DecisionTreeClassifier(max_features='sqrt', random_state=2075460851),\n",
       " DecisionTreeClassifier(max_features='sqrt', random_state=396917567),\n",
       " DecisionTreeClassifier(max_features='sqrt', random_state=2004731384),\n",
       " DecisionTreeClassifier(max_features='sqrt', random_state=199502978),\n",
       " DecisionTreeClassifier(max_features='sqrt', random_state=1545932260),\n",
       " DecisionTreeClassifier(max_features='sqrt', random_state=461901618),\n",
       " DecisionTreeClassifier(max_features='sqrt', random_state=774414982),\n",
       " DecisionTreeClassifier(max_features='sqrt', random_state=732395540),\n",
       " DecisionTreeClassifier(max_features='sqrt', random_state=1934879560),\n",
       " DecisionTreeClassifier(max_features='sqrt', random_state=279394470),\n",
       " DecisionTreeClassifier(max_features='sqrt', random_state=56972561),\n",
       " DecisionTreeClassifier(max_features='sqrt', random_state=1927948675),\n",
       " DecisionTreeClassifier(max_features='sqrt', random_state=1899242072),\n",
       " DecisionTreeClassifier(max_features='sqrt', random_state=1999874363),\n",
       " DecisionTreeClassifier(max_features='sqrt', random_state=271820813),\n",
       " DecisionTreeClassifier(max_features='sqrt', random_state=1324556529),\n",
       " DecisionTreeClassifier(max_features='sqrt', random_state=1655351289),\n",
       " DecisionTreeClassifier(max_features='sqrt', random_state=1308306184),\n",
       " DecisionTreeClassifier(max_features='sqrt', random_state=68574553),\n",
       " DecisionTreeClassifier(max_features='sqrt', random_state=419498548),\n",
       " DecisionTreeClassifier(max_features='sqrt', random_state=991681409),\n",
       " DecisionTreeClassifier(max_features='sqrt', random_state=791274835),\n",
       " DecisionTreeClassifier(max_features='sqrt', random_state=1035196507),\n",
       " DecisionTreeClassifier(max_features='sqrt', random_state=1890440558),\n",
       " DecisionTreeClassifier(max_features='sqrt', random_state=787110843),\n",
       " DecisionTreeClassifier(max_features='sqrt', random_state=524150214),\n",
       " DecisionTreeClassifier(max_features='sqrt', random_state=472432043),\n",
       " DecisionTreeClassifier(max_features='sqrt', random_state=2126768636),\n",
       " DecisionTreeClassifier(max_features='sqrt', random_state=1431061255),\n",
       " DecisionTreeClassifier(max_features='sqrt', random_state=147697582),\n",
       " DecisionTreeClassifier(max_features='sqrt', random_state=744595490),\n",
       " DecisionTreeClassifier(max_features='sqrt', random_state=1758017741),\n",
       " DecisionTreeClassifier(max_features='sqrt', random_state=1679592528),\n",
       " DecisionTreeClassifier(max_features='sqrt', random_state=1111451555),\n",
       " DecisionTreeClassifier(max_features='sqrt', random_state=782698033),\n",
       " DecisionTreeClassifier(max_features='sqrt', random_state=698027879),\n",
       " DecisionTreeClassifier(max_features='sqrt', random_state=1096768899),\n",
       " DecisionTreeClassifier(max_features='sqrt', random_state=1338788865),\n",
       " DecisionTreeClassifier(max_features='sqrt', random_state=1826030589),\n",
       " DecisionTreeClassifier(max_features='sqrt', random_state=86191493),\n",
       " DecisionTreeClassifier(max_features='sqrt', random_state=893102645),\n",
       " DecisionTreeClassifier(max_features='sqrt', random_state=200619113),\n",
       " DecisionTreeClassifier(max_features='sqrt', random_state=290770691),\n",
       " DecisionTreeClassifier(max_features='sqrt', random_state=793943861),\n",
       " DecisionTreeClassifier(max_features='sqrt', random_state=134489564),\n",
       " DecisionTreeClassifier(max_features='sqrt', random_state=2016850622),\n",
       " DecisionTreeClassifier(max_features='sqrt', random_state=1470101905),\n",
       " DecisionTreeClassifier(max_features='sqrt', random_state=1181686489),\n",
       " DecisionTreeClassifier(max_features='sqrt', random_state=1931679275),\n",
       " DecisionTreeClassifier(max_features='sqrt', random_state=1887633569),\n",
       " DecisionTreeClassifier(max_features='sqrt', random_state=1697157321),\n",
       " DecisionTreeClassifier(max_features='sqrt', random_state=1695770557),\n",
       " DecisionTreeClassifier(max_features='sqrt', random_state=1832485859),\n",
       " DecisionTreeClassifier(max_features='sqrt', random_state=420477197),\n",
       " DecisionTreeClassifier(max_features='sqrt', random_state=976125790),\n",
       " DecisionTreeClassifier(max_features='sqrt', random_state=1811936047),\n",
       " DecisionTreeClassifier(max_features='sqrt', random_state=1402481934),\n",
       " DecisionTreeClassifier(max_features='sqrt', random_state=380072391),\n",
       " DecisionTreeClassifier(max_features='sqrt', random_state=302554573),\n",
       " DecisionTreeClassifier(max_features='sqrt', random_state=841739990),\n",
       " DecisionTreeClassifier(max_features='sqrt', random_state=89482491),\n",
       " DecisionTreeClassifier(max_features='sqrt', random_state=194249720),\n",
       " DecisionTreeClassifier(max_features='sqrt', random_state=1980718781),\n",
       " DecisionTreeClassifier(max_features='sqrt', random_state=1397283111),\n",
       " DecisionTreeClassifier(max_features='sqrt', random_state=1479761620),\n",
       " DecisionTreeClassifier(max_features='sqrt', random_state=1669356239),\n",
       " DecisionTreeClassifier(max_features='sqrt', random_state=1062231788),\n",
       " DecisionTreeClassifier(max_features='sqrt', random_state=1165435217),\n",
       " DecisionTreeClassifier(max_features='sqrt', random_state=170476398),\n",
       " DecisionTreeClassifier(max_features='sqrt', random_state=1411916852),\n",
       " DecisionTreeClassifier(max_features='sqrt', random_state=372593431),\n",
       " DecisionTreeClassifier(max_features='sqrt', random_state=1532243865),\n",
       " DecisionTreeClassifier(max_features='sqrt', random_state=1998256344),\n",
       " DecisionTreeClassifier(max_features='sqrt', random_state=1206604539),\n",
       " DecisionTreeClassifier(max_features='sqrt', random_state=459708603),\n",
       " DecisionTreeClassifier(max_features='sqrt', random_state=183378299),\n",
       " DecisionTreeClassifier(max_features='sqrt', random_state=1185407468),\n",
       " DecisionTreeClassifier(max_features='sqrt', random_state=605264936),\n",
       " DecisionTreeClassifier(max_features='sqrt', random_state=1272485020),\n",
       " DecisionTreeClassifier(max_features='sqrt', random_state=1297926158),\n",
       " DecisionTreeClassifier(max_features='sqrt', random_state=709816108),\n",
       " DecisionTreeClassifier(max_features='sqrt', random_state=320192576),\n",
       " DecisionTreeClassifier(max_features='sqrt', random_state=67157848),\n",
       " DecisionTreeClassifier(max_features='sqrt', random_state=2091163462),\n",
       " DecisionTreeClassifier(max_features='sqrt', random_state=1818495496),\n",
       " DecisionTreeClassifier(max_features='sqrt', random_state=1169282391),\n",
       " DecisionTreeClassifier(max_features='sqrt', random_state=1696003200),\n",
       " DecisionTreeClassifier(max_features='sqrt', random_state=853477355),\n",
       " DecisionTreeClassifier(max_features='sqrt', random_state=1260522119),\n",
       " DecisionTreeClassifier(max_features='sqrt', random_state=23717335),\n",
       " DecisionTreeClassifier(max_features='sqrt', random_state=60472382),\n",
       " DecisionTreeClassifier(max_features='sqrt', random_state=1354896522),\n",
       " DecisionTreeClassifier(max_features='sqrt', random_state=854021618),\n",
       " DecisionTreeClassifier(max_features='sqrt', random_state=888445520),\n",
       " DecisionTreeClassifier(max_features='sqrt', random_state=907706759),\n",
       " DecisionTreeClassifier(max_features='sqrt', random_state=983578274),\n",
       " DecisionTreeClassifier(max_features='sqrt', random_state=1246294434),\n",
       " DecisionTreeClassifier(max_features='sqrt', random_state=1165097248),\n",
       " DecisionTreeClassifier(max_features='sqrt', random_state=455094650),\n",
       " DecisionTreeClassifier(max_features='sqrt', random_state=318019332),\n",
       " DecisionTreeClassifier(max_features='sqrt', random_state=1830948329),\n",
       " DecisionTreeClassifier(max_features='sqrt', random_state=1539598566),\n",
       " DecisionTreeClassifier(max_features='sqrt', random_state=648870905),\n",
       " DecisionTreeClassifier(max_features='sqrt', random_state=497653800),\n",
       " DecisionTreeClassifier(max_features='sqrt', random_state=1782238235),\n",
       " DecisionTreeClassifier(max_features='sqrt', random_state=1559517318),\n",
       " DecisionTreeClassifier(max_features='sqrt', random_state=1503404232),\n",
       " DecisionTreeClassifier(max_features='sqrt', random_state=529561415),\n",
       " DecisionTreeClassifier(max_features='sqrt', random_state=1930375947),\n",
       " DecisionTreeClassifier(max_features='sqrt', random_state=1421196193),\n",
       " DecisionTreeClassifier(max_features='sqrt', random_state=409783328),\n",
       " DecisionTreeClassifier(max_features='sqrt', random_state=272981039),\n",
       " DecisionTreeClassifier(max_features='sqrt', random_state=1592652278),\n",
       " DecisionTreeClassifier(max_features='sqrt', random_state=1335658902),\n",
       " DecisionTreeClassifier(max_features='sqrt', random_state=725167677),\n",
       " DecisionTreeClassifier(max_features='sqrt', random_state=1396651735),\n",
       " DecisionTreeClassifier(max_features='sqrt', random_state=712631076),\n",
       " DecisionTreeClassifier(max_features='sqrt', random_state=986151010),\n",
       " DecisionTreeClassifier(max_features='sqrt', random_state=392121003),\n",
       " DecisionTreeClassifier(max_features='sqrt', random_state=590804839),\n",
       " DecisionTreeClassifier(max_features='sqrt', random_state=1179921109),\n",
       " DecisionTreeClassifier(max_features='sqrt', random_state=1663066074),\n",
       " DecisionTreeClassifier(max_features='sqrt', random_state=263038498),\n",
       " DecisionTreeClassifier(max_features='sqrt', random_state=2028147648),\n",
       " DecisionTreeClassifier(max_features='sqrt', random_state=1644658402),\n",
       " DecisionTreeClassifier(max_features='sqrt', random_state=513653348),\n",
       " DecisionTreeClassifier(max_features='sqrt', random_state=2025988014),\n",
       " DecisionTreeClassifier(max_features='sqrt', random_state=915879373),\n",
       " DecisionTreeClassifier(max_features='sqrt', random_state=1498573442),\n",
       " DecisionTreeClassifier(max_features='sqrt', random_state=1120063232),\n",
       " DecisionTreeClassifier(max_features='sqrt', random_state=952321028),\n",
       " DecisionTreeClassifier(max_features='sqrt', random_state=263183577),\n",
       " DecisionTreeClassifier(max_features='sqrt', random_state=1013547510),\n",
       " DecisionTreeClassifier(max_features='sqrt', random_state=1163795198),\n",
       " DecisionTreeClassifier(max_features='sqrt', random_state=1099805069),\n",
       " DecisionTreeClassifier(max_features='sqrt', random_state=2120835942),\n",
       " DecisionTreeClassifier(max_features='sqrt', random_state=173660954),\n",
       " DecisionTreeClassifier(max_features='sqrt', random_state=97636744),\n",
       " DecisionTreeClassifier(max_features='sqrt', random_state=904790222),\n",
       " DecisionTreeClassifier(max_features='sqrt', random_state=1836274702),\n",
       " DecisionTreeClassifier(max_features='sqrt', random_state=476272473),\n",
       " DecisionTreeClassifier(max_features='sqrt', random_state=109174313),\n",
       " DecisionTreeClassifier(max_features='sqrt', random_state=1886935931),\n",
       " DecisionTreeClassifier(max_features='sqrt', random_state=463390156),\n",
       " DecisionTreeClassifier(max_features='sqrt', random_state=866377394)]"
      ]
     },
     "execution_count": 19,
     "metadata": {},
     "output_type": "execute_result"
    }
   ],
   "source": [
    "clf.estimators_"
   ]
  },
  {
   "cell_type": "markdown",
   "metadata": {},
   "source": [
    "Elegimos uno de los estimators y evaluamos su desempeño sobre train y test"
   ]
  },
  {
   "cell_type": "code",
   "execution_count": 20,
   "metadata": {},
   "outputs": [
    {
     "data": {
      "text/plain": [
       "{'ccp_alpha': 0.0,\n",
       " 'class_weight': None,\n",
       " 'criterion': 'gini',\n",
       " 'max_depth': None,\n",
       " 'max_features': 'sqrt',\n",
       " 'max_leaf_nodes': None,\n",
       " 'min_impurity_decrease': 0.0,\n",
       " 'min_samples_leaf': 1,\n",
       " 'min_samples_split': 2,\n",
       " 'min_weight_fraction_leaf': 0.0,\n",
       " 'random_state': 1224821422,\n",
       " 'splitter': 'best'}"
      ]
     },
     "execution_count": 20,
     "metadata": {},
     "output_type": "execute_result"
    }
   ],
   "source": [
    "clf_tree = clf.estimators_[50]\n",
    "clf_tree.get_params()"
   ]
  },
  {
   "cell_type": "markdown",
   "metadata": {},
   "source": [
    "Medimos el acuracy de test y de trein"
   ]
  },
  {
   "cell_type": "code",
   "execution_count": 21,
   "metadata": {},
   "outputs": [
    {
     "name": "stdout",
     "output_type": "stream",
     "text": [
      "0.9372405821467976\n",
      "0.8199705774181685\n"
     ]
    },
    {
     "name": "stderr",
     "output_type": "stream",
     "text": [
      "c:\\Users\\Gise\\anaconda3\\lib\\site-packages\\sklearn\\base.py:443: UserWarning: X has feature names, but DecisionTreeClassifier was fitted without feature names\n",
      "  warnings.warn(\n",
      "c:\\Users\\Gise\\anaconda3\\lib\\site-packages\\sklearn\\base.py:443: UserWarning: X has feature names, but DecisionTreeClassifier was fitted without feature names\n",
      "  warnings.warn(\n"
     ]
    }
   ],
   "source": [
    "y_train_pred = clf_tree.predict(X_train)\n",
    "y_test_pred = clf_tree.predict(X_test)\n",
    "print(metrics.accuracy_score(y_train, y_train_pred))\n",
    "print(metrics.accuracy_score(y_test, y_test_pred))"
   ]
  },
  {
   "cell_type": "markdown",
   "metadata": {},
   "source": [
    "Hacemos la curva de validación/complejidad del modelo Tandom Forest en función del número de estimadores"
   ]
  },
  {
   "cell_type": "code",
   "execution_count": 22,
   "metadata": {},
   "outputs": [
    {
     "name": "stderr",
     "output_type": "stream",
     "text": [
      "c:\\Users\\Gise\\anaconda3\\lib\\site-packages\\sklearn\\ensemble\\_forest.py:586: UserWarning: Some inputs do not have OOB scores. This probably means too few trees were used to compute any reliable OOB estimates.\n",
      "  warn(\n"
     ]
    },
    {
     "name": "stdout",
     "output_type": "stream",
     "text": [
      "2\n",
      "10\n"
     ]
    },
    {
     "name": "stderr",
     "output_type": "stream",
     "text": [
      "c:\\Users\\Gise\\anaconda3\\lib\\site-packages\\sklearn\\ensemble\\_forest.py:586: UserWarning: Some inputs do not have OOB scores. This probably means too few trees were used to compute any reliable OOB estimates.\n",
      "  warn(\n"
     ]
    },
    {
     "name": "stdout",
     "output_type": "stream",
     "text": [
      "50\n",
      "100\n",
      "150\n"
     ]
    }
   ],
   "source": [
    "train_accuracy = []\n",
    "test_accuracy = []\n",
    "oob_scores = []\n",
    "\n",
    "N_estimadores = [2,10,50,100,150]#,10,25,50,100,250,500,1000]\n",
    "for estimadores in N_estimadores:\n",
    "    print(estimadores)\n",
    "    clf = RandomForestClassifier(n_estimators=estimadores, n_jobs=-1, oob_score= True, random_state = 42)\n",
    "    clf.fit(X_train,y_train)\n",
    "    \n",
    "    y_train_pred = clf.predict(X_train)\n",
    "    y_test_pred = clf.predict(X_test)\n",
    "    \n",
    "    train_accuracy.append(metrics.accuracy_score(y_train, y_train_pred))\n",
    "    test_accuracy.append(metrics.accuracy_score(y_test, y_test_pred))\n",
    "    oob_scores.append(clf.oob_score_)\n",
    "    \n",
    "train_accuracy = np.array(train_accuracy)\n",
    "test_accuracy = np.array(test_accuracy)\n",
    "oob_scores = np.array(oob_scores)"
   ]
  },
  {
   "cell_type": "markdown",
   "metadata": {},
   "source": [
    "Plotiamos la curva de validación"
   ]
  },
  {
   "cell_type": "code",
   "execution_count": 23,
   "metadata": {},
   "outputs": [
    {
     "data": {
      "image/png": "[encoded data removed]",
      "text/plain": [
       "<Figure size 1152x864 with 1 Axes>"
      ]
     },
     "metadata": {},
     "output_type": "display_data"
    }
   ],
   "source": [
    "plt.figure(figsize = (16,12))\n",
    "plt.plot(N_estimadores, train_accuracy, label = 'Train')\n",
    "plt.plot(N_estimadores, test_accuracy, label = 'Test')\n",
    "plt.plot(N_estimadores, oob_scores, label = 'OOB')\n",
    "plt.xlabel('Numero de estimadores')\n",
    "plt.ylabel('Accuracy')\n",
    "plt.legend()\n",
    "plt.xlim(0,50)\n",
    "plt.show()"
   ]
  },
  {
   "cell_type": "markdown",
   "metadata": {},
   "source": [
    "Hacemos una curva de aprendizaje"
   ]
  },
  {
   "cell_type": "code",
   "execution_count": 24,
   "metadata": {},
   "outputs": [
    {
     "name": "stderr",
     "output_type": "stream",
     "text": [
      "c:\\Users\\Gise\\anaconda3\\lib\\site-packages\\sklearn\\ensemble\\_forest.py:586: UserWarning: Some inputs do not have OOB scores. This probably means too few trees were used to compute any reliable OOB estimates.\n",
      "  warn(\n",
      "c:\\Users\\Gise\\anaconda3\\lib\\site-packages\\sklearn\\ensemble\\_forest.py:586: UserWarning: Some inputs do not have OOB scores. This probably means too few trees were used to compute any reliable OOB estimates.\n",
      "  warn(\n",
      "c:\\Users\\Gise\\anaconda3\\lib\\site-packages\\sklearn\\ensemble\\_forest.py:586: UserWarning: Some inputs do not have OOB scores. This probably means too few trees were used to compute any reliable OOB estimates.\n",
      "  warn(\n",
      "c:\\Users\\Gise\\anaconda3\\lib\\site-packages\\sklearn\\ensemble\\_forest.py:586: UserWarning: Some inputs do not have OOB scores. This probably means too few trees were used to compute any reliable OOB estimates.\n",
      "  warn(\n",
      "c:\\Users\\Gise\\anaconda3\\lib\\site-packages\\sklearn\\ensemble\\_forest.py:586: UserWarning: Some inputs do not have OOB scores. This probably means too few trees were used to compute any reliable OOB estimates.\n",
      "  warn(\n",
      "c:\\Users\\Gise\\anaconda3\\lib\\site-packages\\sklearn\\ensemble\\_forest.py:586: UserWarning: Some inputs do not have OOB scores. This probably means too few trees were used to compute any reliable OOB estimates.\n",
      "  warn(\n",
      "c:\\Users\\Gise\\anaconda3\\lib\\site-packages\\sklearn\\ensemble\\_forest.py:586: UserWarning: Some inputs do not have OOB scores. This probably means too few trees were used to compute any reliable OOB estimates.\n",
      "  warn(\n",
      "c:\\Users\\Gise\\anaconda3\\lib\\site-packages\\sklearn\\ensemble\\_forest.py:586: UserWarning: Some inputs do not have OOB scores. This probably means too few trees were used to compute any reliable OOB estimates.\n",
      "  warn(\n",
      "c:\\Users\\Gise\\anaconda3\\lib\\site-packages\\sklearn\\ensemble\\_forest.py:586: UserWarning: Some inputs do not have OOB scores. This probably means too few trees were used to compute any reliable OOB estimates.\n",
      "  warn(\n",
      "c:\\Users\\Gise\\anaconda3\\lib\\site-packages\\sklearn\\ensemble\\_forest.py:586: UserWarning: Some inputs do not have OOB scores. This probably means too few trees were used to compute any reliable OOB estimates.\n",
      "  warn(\n",
      "c:\\Users\\Gise\\anaconda3\\lib\\site-packages\\sklearn\\ensemble\\_forest.py:586: UserWarning: Some inputs do not have OOB scores. This probably means too few trees were used to compute any reliable OOB estimates.\n",
      "  warn(\n",
      "c:\\Users\\Gise\\anaconda3\\lib\\site-packages\\sklearn\\ensemble\\_forest.py:586: UserWarning: Some inputs do not have OOB scores. This probably means too few trees were used to compute any reliable OOB estimates.\n",
      "  warn(\n",
      "c:\\Users\\Gise\\anaconda3\\lib\\site-packages\\sklearn\\ensemble\\_forest.py:586: UserWarning: Some inputs do not have OOB scores. This probably means too few trees were used to compute any reliable OOB estimates.\n",
      "  warn(\n",
      "c:\\Users\\Gise\\anaconda3\\lib\\site-packages\\sklearn\\ensemble\\_forest.py:586: UserWarning: Some inputs do not have OOB scores. This probably means too few trees were used to compute any reliable OOB estimates.\n",
      "  warn(\n",
      "c:\\Users\\Gise\\anaconda3\\lib\\site-packages\\sklearn\\ensemble\\_forest.py:586: UserWarning: Some inputs do not have OOB scores. This probably means too few trees were used to compute any reliable OOB estimates.\n",
      "  warn(\n",
      "c:\\Users\\Gise\\anaconda3\\lib\\site-packages\\sklearn\\ensemble\\_forest.py:586: UserWarning: Some inputs do not have OOB scores. This probably means too few trees were used to compute any reliable OOB estimates.\n",
      "  warn(\n",
      "c:\\Users\\Gise\\anaconda3\\lib\\site-packages\\sklearn\\ensemble\\_forest.py:586: UserWarning: Some inputs do not have OOB scores. This probably means too few trees were used to compute any reliable OOB estimates.\n",
      "  warn(\n",
      "c:\\Users\\Gise\\anaconda3\\lib\\site-packages\\sklearn\\ensemble\\_forest.py:586: UserWarning: Some inputs do not have OOB scores. This probably means too few trees were used to compute any reliable OOB estimates.\n",
      "  warn(\n",
      "c:\\Users\\Gise\\anaconda3\\lib\\site-packages\\sklearn\\ensemble\\_forest.py:586: UserWarning: Some inputs do not have OOB scores. This probably means too few trees were used to compute any reliable OOB estimates.\n",
      "  warn(\n",
      "c:\\Users\\Gise\\anaconda3\\lib\\site-packages\\sklearn\\ensemble\\_forest.py:586: UserWarning: Some inputs do not have OOB scores. This probably means too few trees were used to compute any reliable OOB estimates.\n",
      "  warn(\n",
      "c:\\Users\\Gise\\anaconda3\\lib\\site-packages\\sklearn\\ensemble\\_forest.py:586: UserWarning: Some inputs do not have OOB scores. This probably means too few trees were used to compute any reliable OOB estimates.\n",
      "  warn(\n",
      "c:\\Users\\Gise\\anaconda3\\lib\\site-packages\\sklearn\\ensemble\\_forest.py:586: UserWarning: Some inputs do not have OOB scores. This probably means too few trees were used to compute any reliable OOB estimates.\n",
      "  warn(\n",
      "c:\\Users\\Gise\\anaconda3\\lib\\site-packages\\sklearn\\ensemble\\_forest.py:586: UserWarning: Some inputs do not have OOB scores. This probably means too few trees were used to compute any reliable OOB estimates.\n",
      "  warn(\n",
      "c:\\Users\\Gise\\anaconda3\\lib\\site-packages\\sklearn\\ensemble\\_forest.py:586: UserWarning: Some inputs do not have OOB scores. This probably means too few trees were used to compute any reliable OOB estimates.\n",
      "  warn(\n",
      "c:\\Users\\Gise\\anaconda3\\lib\\site-packages\\sklearn\\ensemble\\_forest.py:586: UserWarning: Some inputs do not have OOB scores. This probably means too few trees were used to compute any reliable OOB estimates.\n",
      "  warn(\n",
      "c:\\Users\\Gise\\anaconda3\\lib\\site-packages\\sklearn\\ensemble\\_forest.py:586: UserWarning: Some inputs do not have OOB scores. This probably means too few trees were used to compute any reliable OOB estimates.\n",
      "  warn(\n",
      "c:\\Users\\Gise\\anaconda3\\lib\\site-packages\\sklearn\\ensemble\\_forest.py:586: UserWarning: Some inputs do not have OOB scores. This probably means too few trees were used to compute any reliable OOB estimates.\n",
      "  warn(\n",
      "c:\\Users\\Gise\\anaconda3\\lib\\site-packages\\sklearn\\ensemble\\_forest.py:586: UserWarning: Some inputs do not have OOB scores. This probably means too few trees were used to compute any reliable OOB estimates.\n",
      "  warn(\n",
      "c:\\Users\\Gise\\anaconda3\\lib\\site-packages\\sklearn\\ensemble\\_forest.py:586: UserWarning: Some inputs do not have OOB scores. This probably means too few trees were used to compute any reliable OOB estimates.\n",
      "  warn(\n",
      "c:\\Users\\Gise\\anaconda3\\lib\\site-packages\\sklearn\\ensemble\\_forest.py:586: UserWarning: Some inputs do not have OOB scores. This probably means too few trees were used to compute any reliable OOB estimates.\n",
      "  warn(\n",
      "c:\\Users\\Gise\\anaconda3\\lib\\site-packages\\sklearn\\ensemble\\_forest.py:586: UserWarning: Some inputs do not have OOB scores. This probably means too few trees were used to compute any reliable OOB estimates.\n",
      "  warn(\n",
      "c:\\Users\\Gise\\anaconda3\\lib\\site-packages\\sklearn\\ensemble\\_forest.py:586: UserWarning: Some inputs do not have OOB scores. This probably means too few trees were used to compute any reliable OOB estimates.\n",
      "  warn(\n",
      "c:\\Users\\Gise\\anaconda3\\lib\\site-packages\\sklearn\\ensemble\\_forest.py:586: UserWarning: Some inputs do not have OOB scores. This probably means too few trees were used to compute any reliable OOB estimates.\n",
      "  warn(\n",
      "c:\\Users\\Gise\\anaconda3\\lib\\site-packages\\sklearn\\ensemble\\_forest.py:586: UserWarning: Some inputs do not have OOB scores. This probably means too few trees were used to compute any reliable OOB estimates.\n",
      "  warn(\n",
      "c:\\Users\\Gise\\anaconda3\\lib\\site-packages\\sklearn\\ensemble\\_forest.py:586: UserWarning: Some inputs do not have OOB scores. This probably means too few trees were used to compute any reliable OOB estimates.\n",
      "  warn(\n",
      "c:\\Users\\Gise\\anaconda3\\lib\\site-packages\\sklearn\\ensemble\\_forest.py:586: UserWarning: Some inputs do not have OOB scores. This probably means too few trees were used to compute any reliable OOB estimates.\n",
      "  warn(\n",
      "c:\\Users\\Gise\\anaconda3\\lib\\site-packages\\sklearn\\ensemble\\_forest.py:586: UserWarning: Some inputs do not have OOB scores. This probably means too few trees were used to compute any reliable OOB estimates.\n",
      "  warn(\n",
      "c:\\Users\\Gise\\anaconda3\\lib\\site-packages\\sklearn\\ensemble\\_forest.py:586: UserWarning: Some inputs do not have OOB scores. This probably means too few trees were used to compute any reliable OOB estimates.\n",
      "  warn(\n",
      "c:\\Users\\Gise\\anaconda3\\lib\\site-packages\\sklearn\\ensemble\\_forest.py:586: UserWarning: Some inputs do not have OOB scores. This probably means too few trees were used to compute any reliable OOB estimates.\n",
      "  warn(\n",
      "c:\\Users\\Gise\\anaconda3\\lib\\site-packages\\sklearn\\ensemble\\_forest.py:586: UserWarning: Some inputs do not have OOB scores. This probably means too few trees were used to compute any reliable OOB estimates.\n",
      "  warn(\n",
      "c:\\Users\\Gise\\anaconda3\\lib\\site-packages\\sklearn\\ensemble\\_forest.py:586: UserWarning: Some inputs do not have OOB scores. This probably means too few trees were used to compute any reliable OOB estimates.\n",
      "  warn(\n",
      "c:\\Users\\Gise\\anaconda3\\lib\\site-packages\\sklearn\\ensemble\\_forest.py:586: UserWarning: Some inputs do not have OOB scores. This probably means too few trees were used to compute any reliable OOB estimates.\n",
      "  warn(\n",
      "c:\\Users\\Gise\\anaconda3\\lib\\site-packages\\sklearn\\ensemble\\_forest.py:586: UserWarning: Some inputs do not have OOB scores. This probably means too few trees were used to compute any reliable OOB estimates.\n",
      "  warn(\n",
      "c:\\Users\\Gise\\anaconda3\\lib\\site-packages\\sklearn\\ensemble\\_forest.py:586: UserWarning: Some inputs do not have OOB scores. This probably means too few trees were used to compute any reliable OOB estimates.\n",
      "  warn(\n",
      "c:\\Users\\Gise\\anaconda3\\lib\\site-packages\\sklearn\\ensemble\\_forest.py:586: UserWarning: Some inputs do not have OOB scores. This probably means too few trees were used to compute any reliable OOB estimates.\n",
      "  warn(\n"
     ]
    }
   ],
   "source": [
    "clf = RandomForestClassifier(n_estimators=15, n_jobs=-1, oob_score= True, random_state = 42)\n",
    "\n",
    "train_sizes, train_scores, valid_scores = learning_curve(clf, X_train, y_train, \n",
    "                                                         train_sizes = np.linspace(0.0001,1,10),\n",
    "                                                         scoring = 'accuracy', cv=5)"
   ]
  },
  {
   "cell_type": "markdown",
   "metadata": {},
   "source": [
    "Plotiamos los resultados obtenidos "
   ]
  },
  {
   "cell_type": "code",
   "execution_count": 25,
   "metadata": {},
   "outputs": [
    {
     "data": {
      "image/png": "[encoded data removed]",
      "text/plain": [
       "<Figure size 1152x864 with 1 Axes>"
      ]
     },
     "metadata": {},
     "output_type": "display_data"
    }
   ],
   "source": [
    "plt.figure(figsize = (16,12))\n",
    "plt.plot(train_sizes, train_scores.mean(axis = 1), color = 'r')\n",
    "plt.plot(train_sizes, valid_scores.mean(axis = 1), color = 'g')\n",
    "\n",
    "plt.fill_between(train_sizes, train_scores.mean(axis = 1)- train_scores.std(axis = 1),\n",
    "                     train_scores.mean(axis = 1)+ train_scores.std(axis = 1), alpha=0.25,\n",
    "                     color=\"r\")\n",
    "plt.fill_between(train_sizes, valid_scores.mean(axis = 1) - valid_scores.std(axis = 1),\n",
    "                     valid_scores.mean(axis = 1) + valid_scores.std(axis = 1), alpha=0.25, color=\"g\")\n",
    "\n",
    "plt.ylim(0.5,1.1)\n",
    "plt.show()"
   ]
  },
  {
   "cell_type": "code",
   "execution_count": 26,
   "metadata": {},
   "outputs": [],
   "source": [
    "from sklearn.preprocessing import LabelEncoder, MinMaxScaler\n",
    "from sklearn.tree import DecisionTreeClassifier\n",
    "from sklearn.model_selection import cross_val_score\n",
    "\n",
    "y = train['target']\n",
    "X = train.drop(columns=['target'])\n",
    "\n",
    "X_scaled = MinMaxScaler().fit_transform(X)"
   ]
  },
  {
   "cell_type": "markdown",
   "metadata": {},
   "source": [
    "##### *`5.3 Predecimos con regresion logística`*"
   ]
  },
  {
   "cell_type": "code",
   "execution_count": 27,
   "metadata": {},
   "outputs": [
    {
     "name": "stderr",
     "output_type": "stream",
     "text": [
      "c:\\Users\\Gise\\anaconda3\\lib\\site-packages\\scipy\\optimize\\linesearch.py:478: LineSearchWarning: The line search algorithm did not converge\n",
      "  warn('The line search algorithm did not converge', LineSearchWarning)\n",
      "c:\\Users\\Gise\\anaconda3\\lib\\site-packages\\scipy\\optimize\\linesearch.py:327: LineSearchWarning: The line search algorithm did not converge\n",
      "  warn('The line search algorithm did not converge', LineSearchWarning)\n",
      "c:\\Users\\Gise\\anaconda3\\lib\\site-packages\\sklearn\\utils\\optimize.py:210: ConvergenceWarning: newton-cg failed to converge. Increase the number of iterations.\n",
      "  warnings.warn(\n"
     ]
    },
    {
     "data": {
      "image/png": "[encoded data removed]",
      "text/plain": [
       "<Figure size 504x504 with 2 Axes>"
      ]
     },
     "metadata": {},
     "output_type": "display_data"
    },
    {
     "name": "stdout",
     "output_type": "stream",
     "text": [
      "              precision    recall  f1-score   support\n",
      "\n",
      "           0       0.86      0.96      0.91     31616\n",
      "           1       0.58      0.25      0.34      6450\n",
      "\n",
      "    accuracy                           0.84     38066\n",
      "   macro avg       0.72      0.60      0.63     38066\n",
      "weighted avg       0.81      0.84      0.81     38066\n",
      "\n"
     ]
    }
   ],
   "source": [
    "from sklearn.metrics import confusion_matrix\n",
    "from sklearn.metrics import classification_report\n",
    "from sklearn.model_selection import train_test_split\n",
    "from sklearn.linear_model import LogisticRegression\n",
    "from sklearn.decomposition import PCA\n",
    "from sklearn.tree import DecisionTreeClassifier\n",
    "#definimos nuestras etiquetas y features\n",
    "\n",
    "#dividimos en sets de entrenamiento y test\n",
    "X_train, X_test, y_train, y_test = train_test_split(X, y, train_size=0.3)\n",
    " \n",
    "#creamos una función que crea el modelo que usaremos cada vez\n",
    "def run_model(X_train, X_test, y_train, y_test):\n",
    "    clf_base = LogisticRegression(C=1.0,penalty='l2',random_state=1,solver=\"newton-cg\")\n",
    "    clf_base.fit(X_train, y_train)\n",
    "    return clf_base\n",
    " \n",
    "#ejecutamos el modelo \"tal cual\"\n",
    "model = run_model(X_train, X_test, y_train, y_test)\n",
    " \n",
    "#definimos funciona para mostrar los resultados\n",
    "def mostrar_resultados(y_test, pred_y):\n",
    "    conf_matrix = confusion_matrix(y_test, pred_y)\n",
    "    plt.figure(figsize=(7, 7))\n",
    "    sns.heatmap(conf_matrix, annot=True, fmt=\"d\");\n",
    "    plt.title(\"Confusion matrix\")\n",
    "    plt.ylabel('True class')\n",
    "    plt.xlabel('Predicted class')\n",
    "    plt.show()\n",
    "    print (classification_report(y_test, pred_y))\n",
    " \n",
    "pred_y = model.predict(X_test)\n",
    "mostrar_resultados(y_test, pred_y)\n",
    "#https://www.aprendemachinelearning.com/clasificacion-con-datos-desbalanceados/"
   ]
  },
  {
   "cell_type": "markdown",
   "metadata": {},
   "source": [
    "##### *`5.3 Predecimos con Árboles de decisiones y medimos su exactitud`*"
   ]
  },
  {
   "cell_type": "code",
   "execution_count": 28,
   "metadata": {},
   "outputs": [],
   "source": [
    "from sklearn.metrics import accuracy_score, precision_score, recall_score, f1_score\n",
    "from IPython.display import clear_output"
   ]
  },
  {
   "cell_type": "code",
   "execution_count": 29,
   "metadata": {},
   "outputs": [
    {
     "name": "stdout",
     "output_type": "stream",
     "text": [
      "Completado: 100.0%\n"
     ]
    }
   ],
   "source": [
    "#Guardamos en listas las posibilidades diferentes que tenemos en medida de que parte del dataset tomamos como entrenamiento y cual de test\n",
    "tree_train_scores_mean = []\n",
    "tree_train_scores_std = []\n",
    "tree_test_scores_mean = []\n",
    "tree_test_scores_std = []\n",
    "\n",
    "profundidades = np.arange(1,30,1)\n",
    "i = 0\n",
    "i_max = len(profundidades)\n",
    "for profundidad in profundidades:\n",
    "    i = i + 1\n",
    "    clf = DecisionTreeClassifier(max_depth=profundidad)\n",
    "    #validación cruzada en el árbol de decision\n",
    "    #cv = indica en la cantidad de partes que sera dividido el dataset\n",
    "    tree_scores = cross_validate(clf, X, y, cv=5, return_train_score=True, n_jobs = -1)\n",
    "    \n",
    "    tree_train_scores_mean.append(tree_scores['train_score'].mean())\n",
    "    tree_train_scores_std.append(tree_scores['train_score'].std())\n",
    "    \n",
    "    tree_test_scores_mean.append(tree_scores['test_score'].mean())\n",
    "    tree_test_scores_std.append(tree_scores['test_score'].std())\n",
    "    \n",
    "    clear_output(wait=True)\n",
    "    print('Completado: ' + str(round(i / i_max * 100, 2)) + '%')\n",
    "\n",
    "tree_train_scores_mean = np.array(tree_train_scores_mean)\n",
    "tree_train_scores_std = np.array(tree_train_scores_std)\n",
    "tree_test_scores_mean = np.array(tree_test_scores_mean)\n",
    "tree_test_scores_std = np.array(tree_test_scores_std)"
   ]
  },
  {
   "cell_type": "code",
   "execution_count": 30,
   "metadata": {},
   "outputs": [
    {
     "name": "stderr",
     "output_type": "stream",
     "text": [
      "c:\\Users\\Gise\\anaconda3\\lib\\site-packages\\sklearn\\ensemble\\_forest.py:586: UserWarning: Some inputs do not have OOB scores. This probably means too few trees were used to compute any reliable OOB estimates.\n",
      "  warn(\n",
      "c:\\Users\\Gise\\anaconda3\\lib\\site-packages\\sklearn\\ensemble\\_forest.py:586: UserWarning: Some inputs do not have OOB scores. This probably means too few trees were used to compute any reliable OOB estimates.\n",
      "  warn(\n",
      "c:\\Users\\Gise\\anaconda3\\lib\\site-packages\\sklearn\\ensemble\\_forest.py:586: UserWarning: Some inputs do not have OOB scores. This probably means too few trees were used to compute any reliable OOB estimates.\n",
      "  warn(\n",
      "c:\\Users\\Gise\\anaconda3\\lib\\site-packages\\sklearn\\ensemble\\_forest.py:586: UserWarning: Some inputs do not have OOB scores. This probably means too few trees were used to compute any reliable OOB estimates.\n",
      "  warn(\n",
      "c:\\Users\\Gise\\anaconda3\\lib\\site-packages\\sklearn\\ensemble\\_forest.py:586: UserWarning: Some inputs do not have OOB scores. This probably means too few trees were used to compute any reliable OOB estimates.\n",
      "  warn(\n",
      "c:\\Users\\Gise\\anaconda3\\lib\\site-packages\\sklearn\\ensemble\\_forest.py:586: UserWarning: Some inputs do not have OOB scores. This probably means too few trees were used to compute any reliable OOB estimates.\n",
      "  warn(\n",
      "c:\\Users\\Gise\\anaconda3\\lib\\site-packages\\sklearn\\ensemble\\_forest.py:586: UserWarning: Some inputs do not have OOB scores. This probably means too few trees were used to compute any reliable OOB estimates.\n",
      "  warn(\n",
      "c:\\Users\\Gise\\anaconda3\\lib\\site-packages\\sklearn\\ensemble\\_forest.py:586: UserWarning: Some inputs do not have OOB scores. This probably means too few trees were used to compute any reliable OOB estimates.\n",
      "  warn(\n",
      "c:\\Users\\Gise\\anaconda3\\lib\\site-packages\\sklearn\\ensemble\\_forest.py:586: UserWarning: Some inputs do not have OOB scores. This probably means too few trees were used to compute any reliable OOB estimates.\n",
      "  warn(\n",
      "c:\\Users\\Gise\\anaconda3\\lib\\site-packages\\sklearn\\ensemble\\_forest.py:586: UserWarning: Some inputs do not have OOB scores. This probably means too few trees were used to compute any reliable OOB estimates.\n",
      "  warn(\n",
      "c:\\Users\\Gise\\anaconda3\\lib\\site-packages\\sklearn\\ensemble\\_forest.py:586: UserWarning: Some inputs do not have OOB scores. This probably means too few trees were used to compute any reliable OOB estimates.\n",
      "  warn(\n",
      "c:\\Users\\Gise\\anaconda3\\lib\\site-packages\\sklearn\\ensemble\\_forest.py:586: UserWarning: Some inputs do not have OOB scores. This probably means too few trees were used to compute any reliable OOB estimates.\n",
      "  warn(\n",
      "c:\\Users\\Gise\\anaconda3\\lib\\site-packages\\sklearn\\ensemble\\_forest.py:586: UserWarning: Some inputs do not have OOB scores. This probably means too few trees were used to compute any reliable OOB estimates.\n",
      "  warn(\n",
      "c:\\Users\\Gise\\anaconda3\\lib\\site-packages\\sklearn\\ensemble\\_forest.py:586: UserWarning: Some inputs do not have OOB scores. This probably means too few trees were used to compute any reliable OOB estimates.\n",
      "  warn(\n",
      "c:\\Users\\Gise\\anaconda3\\lib\\site-packages\\sklearn\\ensemble\\_forest.py:586: UserWarning: Some inputs do not have OOB scores. This probably means too few trees were used to compute any reliable OOB estimates.\n",
      "  warn(\n",
      "c:\\Users\\Gise\\anaconda3\\lib\\site-packages\\sklearn\\ensemble\\_forest.py:586: UserWarning: Some inputs do not have OOB scores. This probably means too few trees were used to compute any reliable OOB estimates.\n",
      "  warn(\n",
      "c:\\Users\\Gise\\anaconda3\\lib\\site-packages\\sklearn\\ensemble\\_forest.py:586: UserWarning: Some inputs do not have OOB scores. This probably means too few trees were used to compute any reliable OOB estimates.\n",
      "  warn(\n",
      "c:\\Users\\Gise\\anaconda3\\lib\\site-packages\\sklearn\\ensemble\\_forest.py:586: UserWarning: Some inputs do not have OOB scores. This probably means too few trees were used to compute any reliable OOB estimates.\n",
      "  warn(\n",
      "c:\\Users\\Gise\\anaconda3\\lib\\site-packages\\sklearn\\ensemble\\_forest.py:586: UserWarning: Some inputs do not have OOB scores. This probably means too few trees were used to compute any reliable OOB estimates.\n",
      "  warn(\n",
      "c:\\Users\\Gise\\anaconda3\\lib\\site-packages\\sklearn\\ensemble\\_forest.py:586: UserWarning: Some inputs do not have OOB scores. This probably means too few trees were used to compute any reliable OOB estimates.\n",
      "  warn(\n",
      "c:\\Users\\Gise\\anaconda3\\lib\\site-packages\\sklearn\\ensemble\\_forest.py:586: UserWarning: Some inputs do not have OOB scores. This probably means too few trees were used to compute any reliable OOB estimates.\n",
      "  warn(\n",
      "c:\\Users\\Gise\\anaconda3\\lib\\site-packages\\sklearn\\ensemble\\_forest.py:586: UserWarning: Some inputs do not have OOB scores. This probably means too few trees were used to compute any reliable OOB estimates.\n",
      "  warn(\n",
      "c:\\Users\\Gise\\anaconda3\\lib\\site-packages\\sklearn\\ensemble\\_forest.py:586: UserWarning: Some inputs do not have OOB scores. This probably means too few trees were used to compute any reliable OOB estimates.\n",
      "  warn(\n",
      "c:\\Users\\Gise\\anaconda3\\lib\\site-packages\\sklearn\\ensemble\\_forest.py:586: UserWarning: Some inputs do not have OOB scores. This probably means too few trees were used to compute any reliable OOB estimates.\n",
      "  warn(\n",
      "c:\\Users\\Gise\\anaconda3\\lib\\site-packages\\sklearn\\ensemble\\_forest.py:586: UserWarning: Some inputs do not have OOB scores. This probably means too few trees were used to compute any reliable OOB estimates.\n",
      "  warn(\n",
      "c:\\Users\\Gise\\anaconda3\\lib\\site-packages\\sklearn\\ensemble\\_forest.py:586: UserWarning: Some inputs do not have OOB scores. This probably means too few trees were used to compute any reliable OOB estimates.\n",
      "  warn(\n",
      "c:\\Users\\Gise\\anaconda3\\lib\\site-packages\\sklearn\\ensemble\\_forest.py:586: UserWarning: Some inputs do not have OOB scores. This probably means too few trees were used to compute any reliable OOB estimates.\n",
      "  warn(\n",
      "c:\\Users\\Gise\\anaconda3\\lib\\site-packages\\sklearn\\ensemble\\_forest.py:586: UserWarning: Some inputs do not have OOB scores. This probably means too few trees were used to compute any reliable OOB estimates.\n",
      "  warn(\n",
      "c:\\Users\\Gise\\anaconda3\\lib\\site-packages\\sklearn\\ensemble\\_forest.py:586: UserWarning: Some inputs do not have OOB scores. This probably means too few trees were used to compute any reliable OOB estimates.\n",
      "  warn(\n",
      "c:\\Users\\Gise\\anaconda3\\lib\\site-packages\\sklearn\\ensemble\\_forest.py:586: UserWarning: Some inputs do not have OOB scores. This probably means too few trees were used to compute any reliable OOB estimates.\n",
      "  warn(\n",
      "c:\\Users\\Gise\\anaconda3\\lib\\site-packages\\sklearn\\ensemble\\_forest.py:586: UserWarning: Some inputs do not have OOB scores. This probably means too few trees were used to compute any reliable OOB estimates.\n",
      "  warn(\n",
      "c:\\Users\\Gise\\anaconda3\\lib\\site-packages\\sklearn\\ensemble\\_forest.py:586: UserWarning: Some inputs do not have OOB scores. This probably means too few trees were used to compute any reliable OOB estimates.\n",
      "  warn(\n",
      "c:\\Users\\Gise\\anaconda3\\lib\\site-packages\\sklearn\\ensemble\\_forest.py:586: UserWarning: Some inputs do not have OOB scores. This probably means too few trees were used to compute any reliable OOB estimates.\n",
      "  warn(\n",
      "c:\\Users\\Gise\\anaconda3\\lib\\site-packages\\sklearn\\ensemble\\_forest.py:586: UserWarning: Some inputs do not have OOB scores. This probably means too few trees were used to compute any reliable OOB estimates.\n",
      "  warn(\n",
      "c:\\Users\\Gise\\anaconda3\\lib\\site-packages\\sklearn\\ensemble\\_forest.py:586: UserWarning: Some inputs do not have OOB scores. This probably means too few trees were used to compute any reliable OOB estimates.\n",
      "  warn(\n",
      "c:\\Users\\Gise\\anaconda3\\lib\\site-packages\\sklearn\\ensemble\\_forest.py:586: UserWarning: Some inputs do not have OOB scores. This probably means too few trees were used to compute any reliable OOB estimates.\n",
      "  warn(\n",
      "c:\\Users\\Gise\\anaconda3\\lib\\site-packages\\sklearn\\ensemble\\_forest.py:586: UserWarning: Some inputs do not have OOB scores. This probably means too few trees were used to compute any reliable OOB estimates.\n",
      "  warn(\n",
      "c:\\Users\\Gise\\anaconda3\\lib\\site-packages\\sklearn\\ensemble\\_forest.py:586: UserWarning: Some inputs do not have OOB scores. This probably means too few trees were used to compute any reliable OOB estimates.\n",
      "  warn(\n",
      "c:\\Users\\Gise\\anaconda3\\lib\\site-packages\\sklearn\\ensemble\\_forest.py:586: UserWarning: Some inputs do not have OOB scores. This probably means too few trees were used to compute any reliable OOB estimates.\n",
      "  warn(\n",
      "c:\\Users\\Gise\\anaconda3\\lib\\site-packages\\sklearn\\ensemble\\_forest.py:586: UserWarning: Some inputs do not have OOB scores. This probably means too few trees were used to compute any reliable OOB estimates.\n",
      "  warn(\n",
      "c:\\Users\\Gise\\anaconda3\\lib\\site-packages\\sklearn\\ensemble\\_forest.py:586: UserWarning: Some inputs do not have OOB scores. This probably means too few trees were used to compute any reliable OOB estimates.\n",
      "  warn(\n",
      "c:\\Users\\Gise\\anaconda3\\lib\\site-packages\\sklearn\\ensemble\\_forest.py:586: UserWarning: Some inputs do not have OOB scores. This probably means too few trees were used to compute any reliable OOB estimates.\n",
      "  warn(\n",
      "c:\\Users\\Gise\\anaconda3\\lib\\site-packages\\sklearn\\ensemble\\_forest.py:586: UserWarning: Some inputs do not have OOB scores. This probably means too few trees were used to compute any reliable OOB estimates.\n",
      "  warn(\n",
      "c:\\Users\\Gise\\anaconda3\\lib\\site-packages\\sklearn\\ensemble\\_forest.py:586: UserWarning: Some inputs do not have OOB scores. This probably means too few trees were used to compute any reliable OOB estimates.\n",
      "  warn(\n",
      "c:\\Users\\Gise\\anaconda3\\lib\\site-packages\\sklearn\\ensemble\\_forest.py:586: UserWarning: Some inputs do not have OOB scores. This probably means too few trees were used to compute any reliable OOB estimates.\n",
      "  warn(\n",
      "c:\\Users\\Gise\\anaconda3\\lib\\site-packages\\sklearn\\ensemble\\_forest.py:586: UserWarning: Some inputs do not have OOB scores. This probably means too few trees were used to compute any reliable OOB estimates.\n",
      "  warn(\n",
      "c:\\Users\\Gise\\anaconda3\\lib\\site-packages\\sklearn\\ensemble\\_forest.py:586: UserWarning: Some inputs do not have OOB scores. This probably means too few trees were used to compute any reliable OOB estimates.\n",
      "  warn(\n",
      "c:\\Users\\Gise\\anaconda3\\lib\\site-packages\\sklearn\\ensemble\\_forest.py:586: UserWarning: Some inputs do not have OOB scores. This probably means too few trees were used to compute any reliable OOB estimates.\n",
      "  warn(\n",
      "c:\\Users\\Gise\\anaconda3\\lib\\site-packages\\sklearn\\ensemble\\_forest.py:586: UserWarning: Some inputs do not have OOB scores. This probably means too few trees were used to compute any reliable OOB estimates.\n",
      "  warn(\n",
      "c:\\Users\\Gise\\anaconda3\\lib\\site-packages\\sklearn\\ensemble\\_forest.py:586: UserWarning: Some inputs do not have OOB scores. This probably means too few trees were used to compute any reliable OOB estimates.\n",
      "  warn(\n"
     ]
    }
   ],
   "source": [
    "# \n",
    "\n",
    "clf = RandomForestClassifier(n_estimators=3, n_jobs=-1, oob_score= True, random_state = 42)\n",
    "\n",
    "train_sizes, train_scores, valid_scores = learning_curve(clf, X_train, y_train, \n",
    "                                                         train_sizes = np.linspace(0.0001,1,10),\n",
    "                                                         scoring = 'accuracy', cv=5)\n",
    "\n",
    "\n"
   ]
  },
  {
   "cell_type": "markdown",
   "metadata": {},
   "source": [
    "A continuación, utilizaremos la llamada curva de aprendizaje. Esta es una herramienta que nos muestra el _trade-off_ entre varianza y sesgo de nuestro modelo. Mientras el score del random forest este más cerca de uno, el modelo ajusta mejor la función que esta representando. Muestra el score de la cross-validation y el del entrenamiento de un estimador variando la cantidad de muestras de set de entrenamiento."
   ]
  },
  {
   "cell_type": "code",
   "execution_count": 31,
   "metadata": {},
   "outputs": [
    {
     "data": {
      "image/png": "[encoded data removed]",
      "text/plain": [
       "<Figure size 1008x576 with 1 Axes>"
      ]
     },
     "metadata": {},
     "output_type": "display_data"
    }
   ],
   "source": [
    "# Graficamos la curva de aprendizaje\n",
    "\n",
    "plt.figure(figsize = (14,8))\n",
    "plt.plot(train_sizes, train_scores.mean(axis = 1), color = 'r')\n",
    "plt.plot(train_sizes, valid_scores.mean(axis = 1), color = 'g')\n",
    "\n",
    "plt.fill_between(train_sizes, train_scores.mean(axis = 1)- train_scores.std(axis = 1),\n",
    "                     train_scores.mean(axis = 1)+ train_scores.std(axis = 1), alpha=0.25,\n",
    "                     color=\"r\")\n",
    "plt.fill_between(train_sizes, valid_scores.mean(axis = 1) - valid_scores.std(axis = 1),\n",
    "                     valid_scores.mean(axis = 1) + valid_scores.std(axis = 1), alpha=0.25, color=\"g\")\n",
    "\n",
    "plt.ylim(0.5,1.1)\n",
    "plt.legend(['Training Score','Cross-validation'])\n",
    "plt.xlabel('Training examples')\n",
    "plt.ylabel('Score')\n",
    "plt.show()"
   ]
  },
  {
   "cell_type": "markdown",
   "metadata": {},
   "source": [
    "##### **ENSAMBLE**\n",
    "\n",
    "\n",
    "- - -\n",
    "\n",
    "##### **`STACKING`**\n",
    "\n",
    "El método Stacking (Stacked Generalization o Meta Ensamblado) implica combinar las predicciones de distintos modelos de Machine Learning con un mismo conjunto de datos, tal como Bagging y Boosting.\n",
    "\n",
    "Stacking suele utilizar modelos diferentes -pueden no ser todos, necesariamente, árboles de decisión- y se ajustan al mismo conjunto de datos. Por otro lado, esta técnica usa solo un modelo para aprender cómo ensamblar de mejor manera las predicciones de los modelos que contribuyen.\n",
    "\n",
    "La arquitectura de este método implica dos o más *modelos base* (nivel 0) y un *metamodelo* (nivel 1) que combina las predicciones de los modelos base.\n",
    "\n",
    "Este enfoque puede ser utilizado tanto en escenarios supervisados como no supervisados y su rendimiento aumentará cuanto más diversos sean los modelos del nivel 0.\n",
    "\n"
   ]
  },
  {
   "cell_type": "code",
   "execution_count": 32,
   "metadata": {},
   "outputs": [],
   "source": [
    "#IMPORTAMOS LAS LIBRERÍAS NECESARIAS\n",
    "from sklearn.model_selection import train_test_split\n",
    "from sklearn.metrics import accuracy_score\n",
    "from sklearn.neighbors import KNeighborsClassifier # Modelo 1\n",
    "from sklearn.svm import SVC # Modelo 2\n",
    "from sklearn.tree import DecisionTreeClassifier # Modelo 3\n",
    "from sklearn.ensemble import StackingClassifier\n",
    "from sklearn.linear_model import LogisticRegression # Metamodelo"
   ]
  },
  {
   "cell_type": "markdown",
   "metadata": {},
   "source": [
    "##### **Modelo 1: K-nearest neighbors**"
   ]
  },
  {
   "cell_type": "code",
   "execution_count": 33,
   "metadata": {},
   "outputs": [
    {
     "name": "stdout",
     "output_type": "stream",
     "text": [
      "Desempeño del modelo para el Training set:  1.0\n",
      "Desempeño del modelo para el Test set:  0.7263174486418326\n"
     ]
    }
   ],
   "source": [
    "# Se define el clasificador\n",
    "knn = KNeighborsClassifier(1)\n",
    "\n",
    "# Se entrena el modelo\n",
    "knn.fit(X_train, y_train)\n",
    "\n",
    "# Predicciones\n",
    "y_train_pred = knn.predict(X_train)\n",
    "y_test_pred = knn.predict(X_test)\n",
    "\n",
    "# Desempeño del modelo en train, calculando la precisión (accuracy)\n",
    "knn_train_accuracy = accuracy_score(y_train, y_train_pred)\n",
    "\n",
    "# Desempeño del modelo en test, calculando la precisión (accuracy)\n",
    "knn_test_accuracy = accuracy_score(y_test, y_test_pred)\n",
    "\n",
    "print('Desempeño del modelo para el Training set: ',knn_train_accuracy)\n",
    "print('Desempeño del modelo para el Test set: ',knn_test_accuracy)"
   ]
  },
  {
   "cell_type": "markdown",
   "metadata": {},
   "source": [
    "##### **Modelo 2: Support vector machine**"
   ]
  },
  {
   "cell_type": "code",
   "execution_count": 34,
   "metadata": {},
   "outputs": [],
   "source": [
    "# Se define el clasificador\n",
    "svm = SVC(gamma=2, C=1)\n",
    "\n",
    "# Se entrena el modelo\n",
    "svm.fit(X_train, y_train)\n",
    "\n",
    "# Predicciones\n",
    "y_train_pred = svm.predict(X_train)\n",
    "y_test_pred = svm.predict(X_test)\n",
    "\n",
    "# Desempeño del modelo en train, calculando la precisión (accuracy)\n",
    "svm_train_accuracy = accuracy_score(y_train, y_train_pred) \n",
    "\n",
    "# Desempeño del modelo en test, calculando la precisión (accuracy)\n",
    "svm_test_accuracy = accuracy_score(y_test, y_test_pred)\n",
    "\n",
    "\n",
    "print('Desempeño del modelo para el Training set: ',svm_train_accuracy)\n",
    "print('Desempeño del modelo para el Test set: ',svm_test_accuracy)"
   ]
  },
  {
   "cell_type": "markdown",
   "metadata": {},
   "source": [
    "##### **Modelo 3: Árboles de decisión**"
   ]
  },
  {
   "cell_type": "code",
   "execution_count": null,
   "metadata": {},
   "outputs": [
    {
     "name": "stdout",
     "output_type": "stream",
     "text": [
      "Desempeño del modelo para el Training set:  0.8919333088145152\n",
      "Desempeño del modelo para el Test set:  0.8629222928597698\n"
     ]
    }
   ],
   "source": [
    "# Se define el clasificador\n",
    "dt = DecisionTreeClassifier(max_depth=9)\n",
    "\n",
    "# Se entrena el modelo\n",
    "dt.fit(X_train, y_train)\n",
    "\n",
    "# Predicciones\n",
    "y_train_pred = dt.predict(X_train)\n",
    "y_test_pred = dt.predict(X_test)\n",
    "\n",
    "# Desempeño del modelo entrenado, calculando la precisión (accuracy)\n",
    "dt_train_accuracy = accuracy_score(y_train, y_train_pred)\n",
    "\n",
    "# Desempeño del modelo testeado, calculando la precisión (accuracy)\n",
    "dt_test_accuracy = accuracy_score(y_test, y_test_pred)\n",
    "\n",
    "print('Desempeño del modelo para el Training set: ',dt_train_accuracy)\n",
    "print('Desempeño del modelo para el Test set: ',dt_test_accuracy)"
   ]
  },
  {
   "cell_type": "markdown",
   "metadata": {},
   "source": [
    "##### **Metamodelo: Regresión logística**"
   ]
  },
  {
   "cell_type": "code",
   "execution_count": null,
   "metadata": {},
   "outputs": [
    {
     "name": "stdout",
     "output_type": "stream",
     "text": [
      "Desempeño del metamodelo para el Training set:  0.9157778595071717\n",
      "Desempeño del metamodelo para el Test set:  0.8669153575369096\n"
     ]
    }
   ],
   "source": [
    "# Se define la lista de estimadores con los 3 modelos generados\n",
    "estimator_list = [\n",
    "    ('knn',knn),\n",
    "    ('svm_rbf',svm),\n",
    "    ('dt',dt)]\n",
    "\n",
    "# Se genera el modelo apilado (stacking)\n",
    "# Se estima con los 3 modelos generados\n",
    "# El estimador de la predicción final será una regresión logística (metamodelo).\n",
    "stack_model = StackingClassifier(\n",
    "    estimators=estimator_list, final_estimator=LogisticRegression())\n",
    "\n",
    "# Se entrena el metamodelo\n",
    "stack_model.fit(X_train, y_train)\n",
    "\n",
    "# Predicciones\n",
    "y_train_pred = stack_model.predict(X_train)\n",
    "y_test_pred = stack_model.predict(X_test)\n",
    "\n",
    "# Desempeño del metamodelo en train, calculando la precisión (accuracy)\n",
    "stack_model_train_accuracy = accuracy_score(y_train, y_train_pred)\n",
    "\n",
    "# Desempeño del metamodelo en test, calculando la precisión (accuracy)\n",
    "stack_model_test_accuracy = accuracy_score(y_test, y_test_pred)\n",
    "\n",
    "print('Desempeño del metamodelo para el Training set: ',stack_model_train_accuracy)\n",
    "print('Desempeño del metamodelo para el Test set: ',stack_model_test_accuracy)"
   ]
  },
  {
   "cell_type": "markdown",
   "metadata": {},
   "source": [
    "#### ***`6. Dataset Test`***"
   ]
  },
  {
   "cell_type": "markdown",
   "metadata": {},
   "source": [
    "##### *`6.1 Acomodamos la forma del dataset`*"
   ]
  },
  {
   "cell_type": "code",
   "execution_count": null,
   "metadata": {},
   "outputs": [],
   "source": [
    "#Cargo el dataset de test\n",
    "test=carga_datos(r'C:\\Users\\Gise\\Desktop\\Data Since\\LABS\\Individuales\\02\\Datathon-mainmio\\Datathon-main\\properties_colombia_test.csv')"
   ]
  },
  {
   "cell_type": "code",
   "execution_count": null,
   "metadata": {},
   "outputs": [
    {
     "data": {
      "text/plain": [
       "Index(['Unnamed: 0', 'id', 'ad_type', 'start_date', 'end_date', 'created_on',\n",
       "       'lat', 'lon', 'l1', 'l2', 'l3', 'l4', 'l5', 'l6', 'rooms', 'bedrooms',\n",
       "       'bathrooms', 'surface_total', 'surface_covered', 'currency',\n",
       "       'price_period', 'title', 'description', 'property_type',\n",
       "       'operation_type', 'geometry'],\n",
       "      dtype='object')"
      ]
     },
     "execution_count": 519,
     "metadata": {},
     "output_type": "execute_result"
    }
   ],
   "source": [
    "test.columns"
   ]
  },
  {
   "cell_type": "code",
   "execution_count": null,
   "metadata": {},
   "outputs": [
    {
     "data": {
      "text/plain": [
       "Index(['latitud', 'longitud', 'bedrooms', 'bathrooms', 'surface_covered',\n",
       "       'price_period', 'target', 'mes_start', 'diff_month', 'apartamento',\n",
       "       'casa', 'local comercial', 'lote', 'oficina'],\n",
       "      dtype='object')"
      ]
     },
     "execution_count": 520,
     "metadata": {},
     "output_type": "execute_result"
    }
   ],
   "source": [
    "train.columns"
   ]
  },
  {
   "cell_type": "code",
   "execution_count": null,
   "metadata": {},
   "outputs": [],
   "source": [
    "test=limpieza_fechas(test)\n",
    "df=test\n",
    "df=transformacion_fechas(df)\n",
    "test=df"
   ]
  },
  {
   "cell_type": "code",
   "execution_count": null,
   "metadata": {},
   "outputs": [
    {
     "data": {
      "text/html": [
       "<div>\n",
       "<style scoped>\n",
       "    .dataframe tbody tr th:only-of-type {\n",
       "        vertical-align: middle;\n",
       "    }\n",
       "\n",
       "    .dataframe tbody tr th {\n",
       "        vertical-align: top;\n",
       "    }\n",
       "\n",
       "    .dataframe thead th {\n",
       "        text-align: right;\n",
       "    }\n",
       "</style>\n",
       "<table border=\"1\" class=\"dataframe\">\n",
       "  <thead>\n",
       "    <tr style=\"text-align: right;\">\n",
       "      <th></th>\n",
       "      <th>Unnamed: 0</th>\n",
       "      <th>id</th>\n",
       "      <th>ad_type</th>\n",
       "      <th>created_on</th>\n",
       "      <th>lat</th>\n",
       "      <th>lon</th>\n",
       "      <th>l1</th>\n",
       "      <th>l2</th>\n",
       "      <th>l3</th>\n",
       "      <th>l4</th>\n",
       "      <th>...</th>\n",
       "      <th>currency</th>\n",
       "      <th>price_period</th>\n",
       "      <th>title</th>\n",
       "      <th>description</th>\n",
       "      <th>property_type</th>\n",
       "      <th>operation_type</th>\n",
       "      <th>geometry</th>\n",
       "      <th>ano_start</th>\n",
       "      <th>mes_start</th>\n",
       "      <th>diff_month</th>\n",
       "    </tr>\n",
       "  </thead>\n",
       "  <tbody>\n",
       "    <tr>\n",
       "      <th>0</th>\n",
       "      <td>852569</td>\n",
       "      <td>pCiVu6rxpBq9dCZfYCXXgA==</td>\n",
       "      <td>Propiedad</td>\n",
       "      <td>2020-09-04</td>\n",
       "      <td>4.722000</td>\n",
       "      <td>-74.075000</td>\n",
       "      <td>Colombia</td>\n",
       "      <td>Cundinamarca</td>\n",
       "      <td>Bogotá D.C</td>\n",
       "      <td>Zona Noroccidental</td>\n",
       "      <td>...</td>\n",
       "      <td>COP</td>\n",
       "      <td>0.0</td>\n",
       "      <td>Casa En Arriendo/venta En Bogota Sotileza Cod....</td>\n",
       "      <td>EXCLUSIVA CASA EN VENTA Y ARRIENDO, UBICADA EN...</td>\n",
       "      <td>Casa</td>\n",
       "      <td>Venta</td>\n",
       "      <td>POINT (-74.075 4.722)</td>\n",
       "      <td>2020</td>\n",
       "      <td>9</td>\n",
       "      <td>0.0</td>\n",
       "    </tr>\n",
       "    <tr>\n",
       "      <th>1</th>\n",
       "      <td>121379</td>\n",
       "      <td>L0XSQ7mF1TWb1lHRg4n2+A==</td>\n",
       "      <td>Propiedad</td>\n",
       "      <td>2020-10-20</td>\n",
       "      <td>NaN</td>\n",
       "      <td>NaN</td>\n",
       "      <td>Colombia</td>\n",
       "      <td>Antioquia</td>\n",
       "      <td>Envigado</td>\n",
       "      <td>NaN</td>\n",
       "      <td>...</td>\n",
       "      <td>COP</td>\n",
       "      <td>1.0</td>\n",
       "      <td>SE VENDE APARTAMENTO EN EL SECTOR DE ZUÑIGA-EN...</td>\n",
       "      <td>PR 7555. Apartamento Duplex en unidad cerrada,...</td>\n",
       "      <td>Apartamento</td>\n",
       "      <td>Venta</td>\n",
       "      <td>POINT EMPTY</td>\n",
       "      <td>2020</td>\n",
       "      <td>10</td>\n",
       "      <td>0.0</td>\n",
       "    </tr>\n",
       "    <tr>\n",
       "      <th>2</th>\n",
       "      <td>119504</td>\n",
       "      <td>FbWRxZOMNoUzVOLXgkum1A==</td>\n",
       "      <td>Propiedad</td>\n",
       "      <td>2020-10-20</td>\n",
       "      <td>6.259253</td>\n",
       "      <td>-75.628381</td>\n",
       "      <td>Colombia</td>\n",
       "      <td>Antioquia</td>\n",
       "      <td>Medellín</td>\n",
       "      <td>San Javier</td>\n",
       "      <td>...</td>\n",
       "      <td>COP</td>\n",
       "      <td>0.0</td>\n",
       "      <td>Casa Barata San Javier Solo por este mes</td>\n",
       "      <td>Casa compraventa escrituras en \\n proceso,sala...</td>\n",
       "      <td>Casa</td>\n",
       "      <td>Venta</td>\n",
       "      <td>POINT (-75.6283806 6.25925267)</td>\n",
       "      <td>2020</td>\n",
       "      <td>10</td>\n",
       "      <td>0.0</td>\n",
       "    </tr>\n",
       "    <tr>\n",
       "      <th>3</th>\n",
       "      <td>227304</td>\n",
       "      <td>RUV1P+3UOmNdlJ9fBdWFyw==</td>\n",
       "      <td>Propiedad</td>\n",
       "      <td>2020-12-10</td>\n",
       "      <td>6.203000</td>\n",
       "      <td>-75.556000</td>\n",
       "      <td>Colombia</td>\n",
       "      <td>Antioquia</td>\n",
       "      <td>Medellín</td>\n",
       "      <td>El Poblado</td>\n",
       "      <td>...</td>\n",
       "      <td>COP</td>\n",
       "      <td>0.0</td>\n",
       "      <td>Lote En Venta En Medellin La Calera Cod. VRPR6330</td>\n",
       "      <td>CODIGO 6330LOTE PARA LA VENTA DE 2793MTS</td>\n",
       "      <td>Lote</td>\n",
       "      <td>Venta</td>\n",
       "      <td>POINT (-75.556 6.203)</td>\n",
       "      <td>2020</td>\n",
       "      <td>12</td>\n",
       "      <td>25.0</td>\n",
       "    </tr>\n",
       "    <tr>\n",
       "      <th>4</th>\n",
       "      <td>228600</td>\n",
       "      <td>ifKutEAhyovuDNeYrFFV+A==</td>\n",
       "      <td>Propiedad</td>\n",
       "      <td>2020-12-10</td>\n",
       "      <td>NaN</td>\n",
       "      <td>NaN</td>\n",
       "      <td>Colombia</td>\n",
       "      <td>Antioquia</td>\n",
       "      <td>Medellín</td>\n",
       "      <td>NaN</td>\n",
       "      <td>...</td>\n",
       "      <td>COP</td>\n",
       "      <td>0.0</td>\n",
       "      <td>Casa en Venta Ubicado en MEDELLIN</td>\n",
       "      <td>Codigo Inmueble 505457 Casa en venta en el sec...</td>\n",
       "      <td>Casa</td>\n",
       "      <td>Venta</td>\n",
       "      <td>POINT EMPTY</td>\n",
       "      <td>2020</td>\n",
       "      <td>12</td>\n",
       "      <td>0.0</td>\n",
       "    </tr>\n",
       "  </tbody>\n",
       "</table>\n",
       "<p>5 rows × 27 columns</p>\n",
       "</div>"
      ],
      "text/plain": [
       "   Unnamed: 0                        id    ad_type  created_on       lat  \\\n",
       "0      852569  pCiVu6rxpBq9dCZfYCXXgA==  Propiedad  2020-09-04  4.722000   \n",
       "1      121379  L0XSQ7mF1TWb1lHRg4n2+A==  Propiedad  2020-10-20       NaN   \n",
       "2      119504  FbWRxZOMNoUzVOLXgkum1A==  Propiedad  2020-10-20  6.259253   \n",
       "3      227304  RUV1P+3UOmNdlJ9fBdWFyw==  Propiedad  2020-12-10  6.203000   \n",
       "4      228600  ifKutEAhyovuDNeYrFFV+A==  Propiedad  2020-12-10       NaN   \n",
       "\n",
       "         lon        l1            l2          l3                  l4  ...  \\\n",
       "0 -74.075000  Colombia  Cundinamarca  Bogotá D.C  Zona Noroccidental  ...   \n",
       "1        NaN  Colombia     Antioquia    Envigado                 NaN  ...   \n",
       "2 -75.628381  Colombia     Antioquia    Medellín          San Javier  ...   \n",
       "3 -75.556000  Colombia     Antioquia    Medellín          El Poblado  ...   \n",
       "4        NaN  Colombia     Antioquia    Medellín                 NaN  ...   \n",
       "\n",
       "  currency price_period                                              title  \\\n",
       "0      COP          0.0  Casa En Arriendo/venta En Bogota Sotileza Cod....   \n",
       "1      COP          1.0  SE VENDE APARTAMENTO EN EL SECTOR DE ZUÑIGA-EN...   \n",
       "2      COP          0.0           Casa Barata San Javier Solo por este mes   \n",
       "3      COP          0.0  Lote En Venta En Medellin La Calera Cod. VRPR6330   \n",
       "4      COP          0.0                  Casa en Venta Ubicado en MEDELLIN   \n",
       "\n",
       "                                         description  property_type  \\\n",
       "0  EXCLUSIVA CASA EN VENTA Y ARRIENDO, UBICADA EN...           Casa   \n",
       "1  PR 7555. Apartamento Duplex en unidad cerrada,...    Apartamento   \n",
       "2  Casa compraventa escrituras en \\n proceso,sala...           Casa   \n",
       "3           CODIGO 6330LOTE PARA LA VENTA DE 2793MTS           Lote   \n",
       "4  Codigo Inmueble 505457 Casa en venta en el sec...           Casa   \n",
       "\n",
       "   operation_type                        geometry ano_start  mes_start  \\\n",
       "0           Venta           POINT (-74.075 4.722)      2020          9   \n",
       "1           Venta                     POINT EMPTY      2020         10   \n",
       "2           Venta  POINT (-75.6283806 6.25925267)      2020         10   \n",
       "3           Venta           POINT (-75.556 6.203)      2020         12   \n",
       "4           Venta                     POINT EMPTY      2020         12   \n",
       "\n",
       "  diff_month  \n",
       "0        0.0  \n",
       "1        0.0  \n",
       "2        0.0  \n",
       "3       25.0  \n",
       "4        0.0  \n",
       "\n",
       "[5 rows x 27 columns]"
      ]
     },
     "execution_count": 522,
     "metadata": {},
     "output_type": "execute_result"
    }
   ],
   "source": [
    "test.price_period.replace('Mensual',1,inplace=True)\n",
    "test.price_period.fillna(0,inplace=True)\n",
    "test.price_period.astype('int32')\n",
    "test.head()"
   ]
  },
  {
   "cell_type": "code",
   "execution_count": null,
   "metadata": {},
   "outputs": [
    {
     "data": {
      "text/html": [
       "<div>\n",
       "<style scoped>\n",
       "    .dataframe tbody tr th:only-of-type {\n",
       "        vertical-align: middle;\n",
       "    }\n",
       "\n",
       "    .dataframe tbody tr th {\n",
       "        vertical-align: top;\n",
       "    }\n",
       "\n",
       "    .dataframe thead th {\n",
       "        text-align: right;\n",
       "    }\n",
       "</style>\n",
       "<table border=\"1\" class=\"dataframe\">\n",
       "  <thead>\n",
       "    <tr style=\"text-align: right;\">\n",
       "      <th></th>\n",
       "      <th>Unnamed: 0</th>\n",
       "      <th>id</th>\n",
       "      <th>ad_type</th>\n",
       "      <th>created_on</th>\n",
       "      <th>lat</th>\n",
       "      <th>lon</th>\n",
       "      <th>l1</th>\n",
       "      <th>l2</th>\n",
       "      <th>l3</th>\n",
       "      <th>l4</th>\n",
       "      <th>...</th>\n",
       "      <th>operation_type</th>\n",
       "      <th>geometry</th>\n",
       "      <th>ano_start</th>\n",
       "      <th>mes_start</th>\n",
       "      <th>diff_month</th>\n",
       "      <th>Apartamento</th>\n",
       "      <th>Casa</th>\n",
       "      <th>Local comercial</th>\n",
       "      <th>Lote</th>\n",
       "      <th>Oficina</th>\n",
       "    </tr>\n",
       "  </thead>\n",
       "  <tbody>\n",
       "    <tr>\n",
       "      <th>0</th>\n",
       "      <td>852569</td>\n",
       "      <td>pCiVu6rxpBq9dCZfYCXXgA==</td>\n",
       "      <td>Propiedad</td>\n",
       "      <td>2020-09-04</td>\n",
       "      <td>4.722</td>\n",
       "      <td>-74.075</td>\n",
       "      <td>Colombia</td>\n",
       "      <td>Cundinamarca</td>\n",
       "      <td>Bogotá D.C</td>\n",
       "      <td>Zona Noroccidental</td>\n",
       "      <td>...</td>\n",
       "      <td>Venta</td>\n",
       "      <td>POINT (-74.075 4.722)</td>\n",
       "      <td>2020</td>\n",
       "      <td>9</td>\n",
       "      <td>0.0</td>\n",
       "      <td>0</td>\n",
       "      <td>1</td>\n",
       "      <td>0</td>\n",
       "      <td>0</td>\n",
       "      <td>0</td>\n",
       "    </tr>\n",
       "    <tr>\n",
       "      <th>1</th>\n",
       "      <td>121379</td>\n",
       "      <td>L0XSQ7mF1TWb1lHRg4n2+A==</td>\n",
       "      <td>Propiedad</td>\n",
       "      <td>2020-10-20</td>\n",
       "      <td>NaN</td>\n",
       "      <td>NaN</td>\n",
       "      <td>Colombia</td>\n",
       "      <td>Antioquia</td>\n",
       "      <td>Envigado</td>\n",
       "      <td>NaN</td>\n",
       "      <td>...</td>\n",
       "      <td>Venta</td>\n",
       "      <td>POINT EMPTY</td>\n",
       "      <td>2020</td>\n",
       "      <td>10</td>\n",
       "      <td>0.0</td>\n",
       "      <td>1</td>\n",
       "      <td>0</td>\n",
       "      <td>0</td>\n",
       "      <td>0</td>\n",
       "      <td>0</td>\n",
       "    </tr>\n",
       "  </tbody>\n",
       "</table>\n",
       "<p>2 rows × 32 columns</p>\n",
       "</div>"
      ],
      "text/plain": [
       "   Unnamed: 0                        id    ad_type  created_on    lat     lon  \\\n",
       "0      852569  pCiVu6rxpBq9dCZfYCXXgA==  Propiedad  2020-09-04  4.722 -74.075   \n",
       "1      121379  L0XSQ7mF1TWb1lHRg4n2+A==  Propiedad  2020-10-20    NaN     NaN   \n",
       "\n",
       "         l1            l2          l3                  l4  ... operation_type  \\\n",
       "0  Colombia  Cundinamarca  Bogotá D.C  Zona Noroccidental  ...          Venta   \n",
       "1  Colombia     Antioquia    Envigado                 NaN  ...          Venta   \n",
       "\n",
       "                geometry  ano_start  mes_start  diff_month  Apartamento  Casa  \\\n",
       "0  POINT (-74.075 4.722)       2020          9         0.0            0     1   \n",
       "1            POINT EMPTY       2020         10         0.0            1     0   \n",
       "\n",
       "  Local comercial  Lote Oficina  \n",
       "0               0     0       0  \n",
       "1               0     0       0  \n",
       "\n",
       "[2 rows x 32 columns]"
      ]
     },
     "execution_count": 523,
     "metadata": {},
     "output_type": "execute_result"
    }
   ],
   "source": [
    "#Le realizo las mismas modificaciones que a train\n",
    "test.property_type.replace('Finca','Otro',inplace=True)\n",
    "test.property_type.replace('Finca','Otro',inplace=True)\n",
    "test.property_type.replace('Finca','Otro',inplace=True)\n",
    "test.property_type.replace('Parqueadero','Otro',inplace=True)\n",
    "#Agregamos al df\n",
    "test= pd.concat([test, pd.get_dummies(test['property_type'])], axis=1)\n",
    "test.drop('Otro',axis=1,inplace=True)\n",
    "test.head(2)"
   ]
  },
  {
   "cell_type": "code",
   "execution_count": null,
   "metadata": {},
   "outputs": [
    {
     "data": {
      "text/plain": [
       "Index(['Unnamed: 0', 'id', 'ad_type', 'created_on', 'lat', 'lon', 'l1', 'l2',\n",
       "       'l3', 'l4', 'l5', 'l6', 'rooms', 'bedrooms', 'bathrooms',\n",
       "       'surface_total', 'surface_covered', 'currency', 'price_period', 'title',\n",
       "       'description', 'property_type', 'operation_type', 'geometry',\n",
       "       'ano_start', 'mes_start', 'diff_month', 'Apartamento', 'Casa',\n",
       "       'Local comercial', 'Lote', 'Oficina'],\n",
       "      dtype='object')"
      ]
     },
     "execution_count": 524,
     "metadata": {},
     "output_type": "execute_result"
    }
   ],
   "source": [
    "test.columns"
   ]
  },
  {
   "cell_type": "code",
   "execution_count": null,
   "metadata": {},
   "outputs": [],
   "source": [
    "#Borro las columnas\n",
    "test.drop(['Unnamed: 0', 'id', 'ad_type', 'created_on', 'l1', 'l2',\n",
    "       'l3', 'l4', 'l5', 'l6', 'rooms', \n",
    "       'surface_total', 'currency', 'title',\n",
    "       'description', 'property_type', 'operation_type', 'geometry',\n",
    "       'ano_start'],axis=1,inplace=True)\n"
   ]
  },
  {
   "cell_type": "code",
   "execution_count": null,
   "metadata": {},
   "outputs": [
    {
     "data": {
      "text/plain": [
       "((65850, 13), (54380, 14))"
      ]
     },
     "execution_count": 526,
     "metadata": {},
     "output_type": "execute_result"
    }
   ],
   "source": [
    "test.shape,train.shape"
   ]
  },
  {
   "cell_type": "code",
   "execution_count": null,
   "metadata": {},
   "outputs": [],
   "source": [
    "#Cambio los nombres de las columnas\n",
    "train.rename(columns={'lat':'latitud','lon':'longitud'},inplace=True)"
   ]
  },
  {
   "cell_type": "code",
   "execution_count": null,
   "metadata": {},
   "outputs": [],
   "source": [
    "df_test_predict=pd.DataFrame(y_test_pred)"
   ]
  },
  {
   "cell_type": "code",
   "execution_count": null,
   "metadata": {},
   "outputs": [],
   "source": [
    "df_test_predict.rename({0:'pred'},axis=1,inplace=True)"
   ]
  },
  {
   "cell_type": "code",
   "execution_count": null,
   "metadata": {},
   "outputs": [
    {
     "data": {
      "text/html": [
       "<div>\n",
       "<style scoped>\n",
       "    .dataframe tbody tr th:only-of-type {\n",
       "        vertical-align: middle;\n",
       "    }\n",
       "\n",
       "    .dataframe tbody tr th {\n",
       "        vertical-align: top;\n",
       "    }\n",
       "\n",
       "    .dataframe thead th {\n",
       "        text-align: right;\n",
       "    }\n",
       "</style>\n",
       "<table border=\"1\" class=\"dataframe\">\n",
       "  <thead>\n",
       "    <tr style=\"text-align: right;\">\n",
       "      <th></th>\n",
       "      <th>pred</th>\n",
       "    </tr>\n",
       "  </thead>\n",
       "  <tbody>\n",
       "    <tr>\n",
       "      <th>0</th>\n",
       "      <td>1</td>\n",
       "    </tr>\n",
       "    <tr>\n",
       "      <th>1</th>\n",
       "      <td>0</td>\n",
       "    </tr>\n",
       "    <tr>\n",
       "      <th>2</th>\n",
       "      <td>0</td>\n",
       "    </tr>\n",
       "  </tbody>\n",
       "</table>\n",
       "</div>"
      ],
      "text/plain": [
       "   pred\n",
       "0     1\n",
       "1     0\n",
       "2     0"
      ]
     },
     "execution_count": 530,
     "metadata": {},
     "output_type": "execute_result"
    }
   ],
   "source": [
    "df_test_predict.head(3)"
   ]
  },
  {
   "cell_type": "code",
   "execution_count": null,
   "metadata": {},
   "outputs": [],
   "source": [
    "df_test_predict.to_csv('sgisela945.csv', index=False)"
   ]
  },
  {
   "cell_type": "markdown",
   "metadata": {},
   "source": [
    "##### ***`7. Pipline`***"
   ]
  },
  {
   "cell_type": "code",
   "execution_count": null,
   "metadata": {},
   "outputs": [],
   "source": [
    "train=train.sample(frac=0.4)\n",
    "#Definimos los conjuntos de entrenamiento\n",
    "X=train.drop('target',axis=1)\n",
    "y=train['target']"
   ]
  },
  {
   "cell_type": "code",
   "execution_count": null,
   "metadata": {},
   "outputs": [],
   "source": [
    "#dividimos los datos en entrenamiento y prueba\n",
    "X_train,X_test,y_train,y_test=train_test_split(X,y,test_size=0.4,random_state=42)"
   ]
  },
  {
   "cell_type": "code",
   "execution_count": null,
   "metadata": {},
   "outputs": [],
   "source": [
    "#iniciamos el scaler\n",
    "scater=StandardScaler()\n",
    "#iniciamos el model\n",
    "knn=KNeighborsClassifier()"
   ]
  },
  {
   "cell_type": "code",
   "execution_count": null,
   "metadata": {},
   "outputs": [],
   "source": [
    "from sklearn.pipeline import Pipeline\n",
    "from sklearn.model_selection import GridSearchCV"
   ]
  },
  {
   "cell_type": "code",
   "execution_count": null,
   "metadata": {},
   "outputs": [],
   "source": [
    "#Operaciones en orden\n",
    "operation= [('scater',scater),('knn',knn)]\n",
    "#configuramos el pipline\n",
    "pipe=Pipeline(operation)\n"
   ]
  },
  {
   "cell_type": "markdown",
   "metadata": {},
   "source": [
    "Hyper parameter tuning"
   ]
  },
  {
   "cell_type": "code",
   "execution_count": null,
   "metadata": {},
   "outputs": [
    {
     "data": {
      "text/plain": [
       "dict_keys(['algorithm', 'leaf_size', 'metric', 'metric_params', 'n_jobs', 'n_neighbors', 'p', 'weights'])"
      ]
     },
     "execution_count": 537,
     "metadata": {},
     "output_type": "execute_result"
    }
   ],
   "source": [
    "#Estos son los parámetros que se pueden modificar en el clasificador KNN\n",
    "knn.get_params().keys()"
   ]
  },
  {
   "cell_type": "code",
   "execution_count": null,
   "metadata": {},
   "outputs": [],
   "source": [
    "#modificaremos el 'n_neighbors'\n",
    "k_values=list(range(1,20))"
   ]
  },
  {
   "cell_type": "code",
   "execution_count": null,
   "metadata": {},
   "outputs": [],
   "source": [
    "#Establecer el parámetro del grid\n",
    "param_grid={'n_neighbors':k_values}"
   ]
  },
  {
   "cell_type": "code",
   "execution_count": null,
   "metadata": {},
   "outputs": [],
   "source": [
    "#Estos son los parámetros del grid\n",
    "param_grid={'knn__n_neighbors':k_values}"
   ]
  },
  {
   "cell_type": "code",
   "execution_count": null,
   "metadata": {},
   "outputs": [],
   "source": [
    "#Poniendo todo junto\n",
    "full_cv_classifier=GridSearchCV(pipe,param_grid,cv=5,scoring='recall')"
   ]
  },
  {
   "cell_type": "code",
   "execution_count": null,
   "metadata": {},
   "outputs": [
    {
     "data": {
      "text/html": [
       "<style>#sk-container-id-6 {color: black;background-color: white;}#sk-container-id-6 pre{padding: 0;}#sk-container-id-6 div.sk-toggleable {background-color: white;}#sk-container-id-6 label.sk-toggleable__label {cursor: pointer;display: block;width: 100%;margin-bottom: 0;padding: 0.3em;box-sizing: border-box;text-align: center;}#sk-container-id-6 label.sk-toggleable__label-arrow:before {content: \"▸\";float: left;margin-right: 0.25em;color: #696969;}#sk-container-id-6 label.sk-toggleable__label-arrow:hover:before {color: black;}#sk-container-id-6 div.sk-estimator:hover label.sk-toggleable__label-arrow:before {color: black;}#sk-container-id-6 div.sk-toggleable__content {max-height: 0;max-width: 0;overflow: hidden;text-align: left;background-color: #f0f8ff;}#sk-container-id-6 div.sk-toggleable__content pre {margin: 0.2em;color: black;border-radius: 0.25em;background-color: #f0f8ff;}#sk-container-id-6 input.sk-toggleable__control:checked~div.sk-toggleable__content {max-height: 200px;max-width: 100%;overflow: auto;}#sk-container-id-6 input.sk-toggleable__control:checked~label.sk-toggleable__label-arrow:before {content: \"▾\";}#sk-container-id-6 div.sk-estimator input.sk-toggleable__control:checked~label.sk-toggleable__label {background-color: #d4ebff;}#sk-container-id-6 div.sk-label input.sk-toggleable__control:checked~label.sk-toggleable__label {background-color: #d4ebff;}#sk-container-id-6 input.sk-hidden--visually {border: 0;clip: rect(1px 1px 1px 1px);clip: rect(1px, 1px, 1px, 1px);height: 1px;margin: -1px;overflow: hidden;padding: 0;position: absolute;width: 1px;}#sk-container-id-6 div.sk-estimator {font-family: monospace;background-color: #f0f8ff;border: 1px dotted black;border-radius: 0.25em;box-sizing: border-box;margin-bottom: 0.5em;}#sk-container-id-6 div.sk-estimator:hover {background-color: #d4ebff;}#sk-container-id-6 div.sk-parallel-item::after {content: \"\";width: 100%;border-bottom: 1px solid gray;flex-grow: 1;}#sk-container-id-6 div.sk-label:hover label.sk-toggleable__label {background-color: #d4ebff;}#sk-container-id-6 div.sk-serial::before {content: \"\";position: absolute;border-left: 1px solid gray;box-sizing: border-box;top: 0;bottom: 0;left: 50%;z-index: 0;}#sk-container-id-6 div.sk-serial {display: flex;flex-direction: column;align-items: center;background-color: white;padding-right: 0.2em;padding-left: 0.2em;position: relative;}#sk-container-id-6 div.sk-item {position: relative;z-index: 1;}#sk-container-id-6 div.sk-parallel {display: flex;align-items: stretch;justify-content: center;background-color: white;position: relative;}#sk-container-id-6 div.sk-item::before, #sk-container-id-6 div.sk-parallel-item::before {content: \"\";position: absolute;border-left: 1px solid gray;box-sizing: border-box;top: 0;bottom: 0;left: 50%;z-index: -1;}#sk-container-id-6 div.sk-parallel-item {display: flex;flex-direction: column;z-index: 1;position: relative;background-color: white;}#sk-container-id-6 div.sk-parallel-item:first-child::after {align-self: flex-end;width: 50%;}#sk-container-id-6 div.sk-parallel-item:last-child::after {align-self: flex-start;width: 50%;}#sk-container-id-6 div.sk-parallel-item:only-child::after {width: 0;}#sk-container-id-6 div.sk-dashed-wrapped {border: 1px dashed gray;margin: 0 0.4em 0.5em 0.4em;box-sizing: border-box;padding-bottom: 0.4em;background-color: white;}#sk-container-id-6 div.sk-label label {font-family: monospace;font-weight: bold;display: inline-block;line-height: 1.2em;}#sk-container-id-6 div.sk-label-container {text-align: center;}#sk-container-id-6 div.sk-container {/* jupyter's `normalize.less` sets `[hidden] { display: none; }` but bootstrap.min.css set `[hidden] { display: none !important; }` so we also need the `!important` here to be able to override the default hidden behavior on the sphinx rendered scikit-learn.org. See: https://github.com/scikit-learn/scikit-learn/issues/21755 */display: inline-block !important;position: relative;}#sk-container-id-6 div.sk-text-repr-fallback {display: none;}</style><div id=\"sk-container-id-6\" class=\"sk-top-container\"><div class=\"sk-text-repr-fallback\"><pre>GridSearchCV(cv=5,\n",
       "             estimator=Pipeline(steps=[(&#x27;scater&#x27;, StandardScaler()),\n",
       "                                       (&#x27;knn&#x27;, KNeighborsClassifier())]),\n",
       "             param_grid={&#x27;knn__n_neighbors&#x27;: [1, 2, 3, 4, 5, 6, 7, 8, 9, 10, 11,\n",
       "                                              12, 13, 14, 15, 16, 17, 18, 19]},\n",
       "             scoring=&#x27;recall&#x27;)</pre><b>In a Jupyter environment, please rerun this cell to show the HTML representation or trust the notebook. <br />On GitHub, the HTML representation is unable to render, please try loading this page with nbviewer.org.</b></div><div class=\"sk-container\" hidden><div class=\"sk-item sk-dashed-wrapped\"><div class=\"sk-label-container\"><div class=\"sk-label sk-toggleable\"><input class=\"sk-toggleable__control sk-hidden--visually\" id=\"sk-estimator-id-12\" type=\"checkbox\" ><label for=\"sk-estimator-id-12\" class=\"sk-toggleable__label sk-toggleable__label-arrow\">GridSearchCV</label><div class=\"sk-toggleable__content\"><pre>GridSearchCV(cv=5,\n",
       "             estimator=Pipeline(steps=[(&#x27;scater&#x27;, StandardScaler()),\n",
       "                                       (&#x27;knn&#x27;, KNeighborsClassifier())]),\n",
       "             param_grid={&#x27;knn__n_neighbors&#x27;: [1, 2, 3, 4, 5, 6, 7, 8, 9, 10, 11,\n",
       "                                              12, 13, 14, 15, 16, 17, 18, 19]},\n",
       "             scoring=&#x27;recall&#x27;)</pre></div></div></div><div class=\"sk-parallel\"><div class=\"sk-parallel-item\"><div class=\"sk-item\"><div class=\"sk-label-container\"><div class=\"sk-label sk-toggleable\"><input class=\"sk-toggleable__control sk-hidden--visually\" id=\"sk-estimator-id-13\" type=\"checkbox\" ><label for=\"sk-estimator-id-13\" class=\"sk-toggleable__label sk-toggleable__label-arrow\">estimator: Pipeline</label><div class=\"sk-toggleable__content\"><pre>Pipeline(steps=[(&#x27;scater&#x27;, StandardScaler()), (&#x27;knn&#x27;, KNeighborsClassifier())])</pre></div></div></div><div class=\"sk-serial\"><div class=\"sk-item\"><div class=\"sk-serial\"><div class=\"sk-item\"><div class=\"sk-estimator sk-toggleable\"><input class=\"sk-toggleable__control sk-hidden--visually\" id=\"sk-estimator-id-14\" type=\"checkbox\" ><label for=\"sk-estimator-id-14\" class=\"sk-toggleable__label sk-toggleable__label-arrow\">StandardScaler</label><div class=\"sk-toggleable__content\"><pre>StandardScaler()</pre></div></div></div><div class=\"sk-item\"><div class=\"sk-estimator sk-toggleable\"><input class=\"sk-toggleable__control sk-hidden--visually\" id=\"sk-estimator-id-15\" type=\"checkbox\" ><label for=\"sk-estimator-id-15\" class=\"sk-toggleable__label sk-toggleable__label-arrow\">KNeighborsClassifier</label><div class=\"sk-toggleable__content\"><pre>KNeighborsClassifier()</pre></div></div></div></div></div></div></div></div></div></div></div></div>"
      ],
      "text/plain": [
       "GridSearchCV(cv=5,\n",
       "             estimator=Pipeline(steps=[('scater', StandardScaler()),\n",
       "                                       ('knn', KNeighborsClassifier())]),\n",
       "             param_grid={'knn__n_neighbors': [1, 2, 3, 4, 5, 6, 7, 8, 9, 10, 11,\n",
       "                                              12, 13, 14, 15, 16, 17, 18, 19]},\n",
       "             scoring='recall')"
      ]
     },
     "execution_count": 542,
     "metadata": {},
     "output_type": "execute_result"
    }
   ],
   "source": [
    "#Entrenamos el pipline\n",
    "full_cv_classifier.fit(X_train,y_train)"
   ]
  },
  {
   "cell_type": "code",
   "execution_count": null,
   "metadata": {},
   "outputs": [
    {
     "data": {
      "text/plain": [
       "{'memory': None,\n",
       " 'steps': [('scater', StandardScaler()),\n",
       "  ('knn', KNeighborsClassifier(n_neighbors=1))],\n",
       " 'verbose': False,\n",
       " 'scater': StandardScaler(),\n",
       " 'knn': KNeighborsClassifier(n_neighbors=1),\n",
       " 'scater__copy': True,\n",
       " 'scater__with_mean': True,\n",
       " 'scater__with_std': True,\n",
       " 'knn__algorithm': 'auto',\n",
       " 'knn__leaf_size': 30,\n",
       " 'knn__metric': 'minkowski',\n",
       " 'knn__metric_params': None,\n",
       " 'knn__n_jobs': None,\n",
       " 'knn__n_neighbors': 1,\n",
       " 'knn__p': 2,\n",
       " 'knn__weights': 'uniform'}"
      ]
     },
     "execution_count": 543,
     "metadata": {},
     "output_type": "execute_result"
    }
   ],
   "source": [
    "#model best parameters\n",
    "full_cv_classifier.best_estimator_.get_params()"
   ]
  },
  {
   "cell_type": "code",
   "execution_count": null,
   "metadata": {},
   "outputs": [
    {
     "data": {
      "text/html": [
       "<div>\n",
       "<style scoped>\n",
       "    .dataframe tbody tr th:only-of-type {\n",
       "        vertical-align: middle;\n",
       "    }\n",
       "\n",
       "    .dataframe tbody tr th {\n",
       "        vertical-align: top;\n",
       "    }\n",
       "\n",
       "    .dataframe thead th {\n",
       "        text-align: right;\n",
       "    }\n",
       "</style>\n",
       "<table border=\"1\" class=\"dataframe\">\n",
       "  <thead>\n",
       "    <tr style=\"text-align: right;\">\n",
       "      <th>k_values</th>\n",
       "      <th>1</th>\n",
       "      <th>2</th>\n",
       "      <th>3</th>\n",
       "      <th>4</th>\n",
       "      <th>5</th>\n",
       "      <th>6</th>\n",
       "      <th>7</th>\n",
       "      <th>8</th>\n",
       "      <th>9</th>\n",
       "      <th>10</th>\n",
       "      <th>11</th>\n",
       "      <th>12</th>\n",
       "      <th>13</th>\n",
       "      <th>14</th>\n",
       "      <th>15</th>\n",
       "      <th>16</th>\n",
       "      <th>17</th>\n",
       "      <th>18</th>\n",
       "      <th>19</th>\n",
       "    </tr>\n",
       "  </thead>\n",
       "  <tbody>\n",
       "    <tr>\n",
       "      <th>Recall</th>\n",
       "      <td>0.46</td>\n",
       "      <td>0.27</td>\n",
       "      <td>0.42</td>\n",
       "      <td>0.29</td>\n",
       "      <td>0.39</td>\n",
       "      <td>0.29</td>\n",
       "      <td>0.36</td>\n",
       "      <td>0.28</td>\n",
       "      <td>0.34</td>\n",
       "      <td>0.27</td>\n",
       "      <td>0.31</td>\n",
       "      <td>0.26</td>\n",
       "      <td>0.29</td>\n",
       "      <td>0.25</td>\n",
       "      <td>0.28</td>\n",
       "      <td>0.24</td>\n",
       "      <td>0.27</td>\n",
       "      <td>0.24</td>\n",
       "      <td>0.27</td>\n",
       "    </tr>\n",
       "  </tbody>\n",
       "</table>\n",
       "</div>"
      ],
      "text/plain": [
       "k_values    1     2     3     4     5     6     7     8     9     10    11  \\\n",
       "Recall    0.46  0.27  0.42  0.29  0.39  0.29  0.36  0.28  0.34  0.27  0.31   \n",
       "\n",
       "k_values    12    13    14    15    16    17    18    19  \n",
       "Recall    0.26  0.29  0.25  0.28  0.24  0.27  0.24  0.27  "
      ]
     },
     "execution_count": 544,
     "metadata": {},
     "output_type": "execute_result"
    }
   ],
   "source": [
    "#printing de recall associated whith each k\n",
    "rec=full_cv_classifier.cv_results_['mean_test_score']\n",
    "k_rec = pd.DataFrame({'k_values':k_values,'Recall':rec})\n",
    "k_rec=k_rec.set_index('k_values').transpose()\n",
    "round(k_rec,2)"
   ]
  },
  {
   "cell_type": "markdown",
   "metadata": {},
   "source": [
    "### MODELO DEFINITIVO"
   ]
  },
  {
   "cell_type": "code",
   "execution_count": null,
   "metadata": {},
   "outputs": [
    {
     "name": "stdout",
     "output_type": "stream",
     "text": [
      "              precision    recall  f1-score   support\n",
      "\n",
      "           0       0.89      0.89      0.89      7171\n",
      "           1       0.49      0.48      0.48      1530\n",
      "\n",
      "    accuracy                           0.82      8701\n",
      "   macro avg       0.69      0.68      0.69      8701\n",
      "weighted avg       0.82      0.82      0.82      8701\n",
      "\n"
     ]
    }
   ],
   "source": [
    "#iniciar y configurar operaciones\n",
    "scaler=StandardScaler()\n",
    "knn18=KNeighborsClassifier(n_neighbors=1)\n",
    "operations=[('scaler',scaler),('knn18',knn18)]\n",
    "#configuramos pipline\n",
    "pipe=Pipeline(operations)\n",
    "#entrenamos de nuevo al modelo\n",
    "pipe.fit(X_train,y_train)\n",
    "Pipeline(steps=[('scaler',StandardScaler(),('knn18',KNeighborsClassifier(n_neighbors=1)))])\n",
    "#hago prediccion del conjunto de prueba\n",
    "pipe_pred=pipe.predict(X_test)\n",
    "#Classification report\n",
    "print(classification_report(y_test,pipe_pred))"
   ]
  },
  {
   "cell_type": "code",
   "execution_count": null,
   "metadata": {},
   "outputs": [
    {
     "data": {
      "image/png": "[encoded data removed]",
      "text/plain": [
       "<Figure size 504x504 with 2 Axes>"
      ]
     },
     "metadata": {},
     "output_type": "display_data"
    }
   ],
   "source": [
    "conf_matrix = confusion_matrix(y_test, pipe_pred)\n",
    "plt.figure(figsize=(7, 7))\n",
    "sns.heatmap(conf_matrix, annot=True, fmt=\"d\");\n",
    "plt.title(\"Confusion matrix pipline\")\n",
    "plt.ylabel('True class')\n",
    "plt.xlabel('Predicted class')\n",
    "plt.show()"
   ]
  },
  {
   "cell_type": "markdown",
   "metadata": {},
   "source": [
    "##### ***`8. Creacion de Escenarios con Pipline`***"
   ]
  },
  {
   "cell_type": "code",
   "execution_count": null,
   "metadata": {},
   "outputs": [
    {
     "name": "stdout",
     "output_type": "stream",
     "text": [
      "Logistic RegresionAccuracy para el conjunto de prueba: 0.8241581427422136\n",
      "Decision TreeAccuracy para el conjunto de prueba: 0.7810596483162855\n",
      "RandomForestAccuracy para el conjunto de prueba: 0.822893920239053\n"
     ]
    }
   ],
   "source": [
    "#CREO TRES MODELOS\n",
    "#MODELO1\n",
    "pipeline_lr=Pipeline([('scalar1',StandardScaler()),('pca1',PCA(n_components=2)),('lr_classifier',LogisticRegression(random_state=0))])\n",
    "#MODELO 2\n",
    "pipeline_dt=Pipeline([('scalar2',StandardScaler()),('pca2',PCA(n_components=2)),('dt_classifier',DecisionTreeClassifier())])\n",
    "#MODELO 3\n",
    "pipeline_randomforest=Pipeline([('scalar3',StandardScaler()),('pca3',PCA(n_components=2)),('rf_classifier',RandomForestClassifier())])\n",
    "\n",
    "#Hago la lista de pipelines\n",
    "pipelines=[pipeline_lr,pipeline_dt,pipeline_randomforest]\n",
    "#Hago una lista de resultados\n",
    "best_acc=0\n",
    "best_classifier=0\n",
    "best_pipline=''\n",
    "#Diccionario de Pipeline y tipos de clasificador para facilitar la referencia\n",
    "pipe_dict={0:'Logistic Regresion',1:'Decision Tree',2:'RandomForest'}\n",
    "#Entrenamiento de pipelines\n",
    "for pipe in pipelines:\n",
    "    pipe.fit(X_train,y_train)\n",
    "\n",
    "for i, model in enumerate (pipelines):\n",
    "    print('{}Accuracy para el conjunto de prueba: {}'.format(pipe_dict[i],model.score(X_test,y_test)))\n",
    "\n"
   ]
  },
  {
   "cell_type": "code",
   "execution_count": null,
   "metadata": {},
   "outputs": [
    {
     "data": {
      "text/plain": [
       "(0,\n",
       " Pipeline(steps=[('scalar1', StandardScaler()), ('pca1', PCA(n_components=2)),\n",
       "                 ('lr_classifier', LogisticRegression(random_state=0))]))"
      ]
     },
     "execution_count": 548,
     "metadata": {},
     "output_type": "execute_result"
    }
   ],
   "source": [
    "for i in enumerate(pipelines):\n",
    "    if model.score(X_test,y_test)>best_acc:\n",
    "        best_acc=model.score(X_test,y_test)\n",
    "        best_pipline=model\n",
    "        best_classifier=i\n",
    "best_classifier\n",
    "#print('El clasificador con el mejor accuracy:',(pipe_dict[best_classifier]))"
   ]
  },
  {
   "cell_type": "markdown",
   "metadata": {},
   "source": [
    "##### ***En resumen, lo que hicimos fue stackear o apilar 3 modelos distintos generando predicciones, para luego utilizar como predicción final el metamodelo que, en este caso, fue de regresión logística.***\n",
    "\n",
    "####     ***`Espero que les haya sido leve!`***\n"
   ]
  }
 ],
 "metadata": {
  "kernelspec": {
   "display_name": "Python 3.9.12 ('base')",
   "language": "python",
   "name": "python3"
  },
  "language_info": {
   "codemirror_mode": {
    "name": "ipython",
    "version": 3
   },
   "file_extension": ".py",
   "mimetype": "text/x-python",
   "name": "python",
   "nbconvert_exporter": "python",
   "pygments_lexer": "ipython3",
   "version": "3.9.12"
  },
  "orig_nbformat": 4,
  "vscode": {
   "interpreter": {
    "hash": "2852b27bee67d373d5d537f6ee9474570f8f7363f24457c4522e6a7b2aeb81c3"
   }
  }
 },
 "nbformat": 4,
 "nbformat_minor": 2
}
